{
 "cells": [
  {
   "cell_type": "code",
   "execution_count": null,
   "id": "630ececf",
   "metadata": {},
   "outputs": [],
   "source": [
    "# 파이썬프로그래밍_과제 3번_홍익대학교_C521069_최용비_함수"
   ]
  },
  {
   "cell_type": "code",
   "execution_count": null,
   "id": "88cafc4a",
   "metadata": {},
   "outputs": [],
   "source": [
    "# 함수 : 인수를 입력으로로 받아 실행문(코드블럭)을 실행하고 출력(return)하는 하나의 실행 모듈\n",
    "\n",
    "# 함수의 정의\n",
    "\n",
    "#def 함수명(매개변수1, 매개변수2 = 디폴트값, ...)\n",
    "#   실행문1\n",
    "#   실행문2\n",
    "#   ...\n",
    "#   return 반환값\n",
    "\n",
    "\n",
    "# 함수는 def 키워드로 정의하며, 함수명과 매개변수를 괄호()로 묶어서 정의함\n",
    "    # 매개변수는 함수에 입력으로 전달된 값을 받는 변수\n",
    "    # 인수는 함수를 호출할 때 전달하는 입력 값을 의미\n",
    "\n",
    "# 함수의 실행문은 코드블럭으로 작성하여 indent로 구분함\n",
    "\n",
    "# 함수의 실행결과는 return 키워드로 반환함\n",
    "    # 반환값은 하나인 경우는 반환값의 데이터 유형으로, 둘 이상인 경우는 튜플로 반환함\n",
    "    # return은 생략가능, 생략할 경우 None 을 반환함"
   ]
  },
  {
   "cell_type": "code",
   "execution_count": null,
   "id": "e70ded80",
   "metadata": {},
   "outputs": [],
   "source": [
    "# 함수명의 작성법\n",
    "\n",
    "# 함수명만으로도 함수의 기능을 유추할 수 있도록 명확하게 표현하는 것이 좋음\n",
    "    # 동사 + 명사 형태로 작성하는 것이 좋음\n",
    "\n",
    "# 과거에는 함수명을 snake_case로 작성하였으나 최근에는 camelCase로 작성하는 추세임\n",
    "\n",
    "# snake_case와 camelCase\n",
    "# snake_case : 단어를 _로 연결하여 작성\n",
    "    # ex) sort_array, get_data, set_data,...\n",
    "\n",
    "# camelCase : 첫단어는 소문자, 두번째 단어부터는 첫글자를 대문자로 작성\n",
    "    # ex) sortArray, getData, setData,...\n",
    "\n",
    "# +) 변수명은 snake_case, 함수명은 camelCase로 작성하는 추세임임"
   ]
  },
  {
   "cell_type": "code",
   "execution_count": 3,
   "id": "d4fb01c3",
   "metadata": {},
   "outputs": [],
   "source": [
    "# calcSumProduct 함수명이고 a,b는 parameters(매개변수)\n",
    "def calSumProduct(a,b=10):\n",
    "\n",
    "    # 들여쓰기로 실행문의 코드블록을 지정\n",
    "    plus = a+b\n",
    "    multiple = a*b\n",
    "\n",
    "    # return으로 함수의 결과값을 반환한다.\n",
    "    return plus, multiple"
   ]
  },
  {
   "cell_type": "code",
   "execution_count": null,
   "id": "08fc4edf",
   "metadata": {},
   "outputs": [],
   "source": [
    "# 함수의 호출\n",
    "\n",
    "# 함수의 호출방법\n",
    "\n",
    "#반환값이 없거나 반환값을 바로 사용\n",
    "# 함수명(인수1, 인수2, ...)\n",
    "\n",
    "#반환값을 변수에 저장하여 활용\n",
    "# 변수명 = 함수명(인수1, 인수2, ...)\n",
    "\n",
    "#반환값이 여러 개인 경우 튜플로 반환됨\n",
    "# 변수1, 변수2, ... = 함수명(인수1, 인수2, ...)"
   ]
  },
  {
   "cell_type": "code",
   "execution_count": null,
   "id": "39c91a79",
   "metadata": {},
   "outputs": [],
   "source": [
    "# 함수를 호출할 때는 함수명(인수들)로 호출함\n",
    "    # 인수가 정의된 순서대로 값이 전달됨\n",
    "    # 인수가 많거나 순서에 관계없이 호출할 경우에는 매개변수=인수 로 지정함\n",
    "    # 디폴트값이 설정된 매개변수는 인수를 생략할 수 있으며, 디폴트값이 적용됨\n",
    "\n",
    "# 함수의 반환값은 변수에 저장하여 활용할 수 있다.\n",
    "    # 반환값이 여러개인 경우 튜플로 반환된다."
   ]
  },
  {
   "cell_type": "code",
   "execution_count": 4,
   "id": "e8ff9f64",
   "metadata": {},
   "outputs": [
    {
     "name": "stdout",
     "output_type": "stream",
     "text": [
      "sum = 10, product = 21\n"
     ]
    }
   ],
   "source": [
    "# 인자를 순서대로 전달하여 함수 호출\n",
    "sum, product = calSumProduct(3,7)\n",
    "\n",
    "# 함수의 결과값을 출력한다.\n",
    "print(f'{sum = }, {product = }')"
   ]
  },
  {
   "cell_type": "code",
   "execution_count": 5,
   "id": "725cd74c",
   "metadata": {},
   "outputs": [
    {
     "name": "stdout",
     "output_type": "stream",
     "text": [
      "sum = 13, product = 30\n"
     ]
    }
   ],
   "source": [
    "# 인자의 디폴트값을 사용하여 함수를 호출한다.\n",
    "sum, product = calSumProduct(3)\n",
    "print(f'{sum = }, {product = }')"
   ]
  },
  {
   "cell_type": "code",
   "execution_count": 6,
   "id": "771af93c",
   "metadata": {},
   "outputs": [
    {
     "name": "stdout",
     "output_type": "stream",
     "text": [
      "sum = 19, product = 88\n"
     ]
    }
   ],
   "source": [
    "# 인자의 이름을 지정하여 함수를 호출한다.\n",
    "sum, product = calSumProduct(b=11, a=8)\n",
    "\n",
    "print(f'{sum = }, {product = }')"
   ]
  },
  {
   "cell_type": "code",
   "execution_count": null,
   "id": "8a51007e",
   "metadata": {},
   "outputs": [],
   "source": [
    "# 함수 주석 : 파이썬 3.0부터 지원하는 기능으로 함수의 매개변수와 반환값에 대한 정보를 제공하는 기능\n",
    "    # 함수에 대한 정보 : 함수명 바로 아래에 작은 따옴표 3개(''' ''')또는 이중 따옴표 3개(\"\"\" \"\"\")로 감싸서 기술한다\n",
    "    # 함수에 대한 정보를 확인할 때는 help(함수명)으로 확인\n",
    "\n",
    "# 함수의 매개변수에 대한 정보 : 매개변수명 뒤에 콜론(:)을 붙이고 자료형을 기술\n",
    "# 함수의 반환값에 대한 정보 : 함수명 앞에 화살표(->)를 붙이고 자료형을 기술"
   ]
  },
  {
   "cell_type": "code",
   "execution_count": 9,
   "id": "162088a8",
   "metadata": {},
   "outputs": [],
   "source": [
    "# a와 b는 int형으로 지정, 반환값은 int형\n",
    "def calSumProduct(a: int, b: int = 10) -> int:\n",
    "    # 함수에 대한 설명을 작성\n",
    "    \"\"\"calSumProduct 함수는 a와 b를 더한 값과 곱한 값을 튜플로 반환하는 함수이다.\"\"\"\n",
    "\n",
    "    # f-string을 이용하여 a와 b의 값을 출력\n",
    "    print(f'{a = },{b = }')\n",
    "    plus = a + b\n",
    "    multiple = a*b\n",
    "    return plus, multiple"
   ]
  },
  {
   "cell_type": "code",
   "execution_count": 10,
   "id": "5df6a64d",
   "metadata": {},
   "outputs": [
    {
     "name": "stdout",
     "output_type": "stream",
     "text": [
      "Help on function calSumProduct in module __main__:\n",
      "\n",
      "calSumProduct(a: int, b: int = 10) -> int\n",
      "    calSumProduct 함수는 a와 b를 더한 값과 곱한 값을 튜플로 반환하는 함수이다.\n",
      "\n"
     ]
    }
   ],
   "source": [
    "# 함수의 정보를 확인할 때는 help(함수명) 으로 확인한다.\n",
    "\n",
    "# 함수의 설명을 출력\n",
    "help(calSumProduct)"
   ]
  },
  {
   "cell_type": "code",
   "execution_count": null,
   "id": "0a6988ab",
   "metadata": {},
   "outputs": [],
   "source": [
    "# 인수의 개수가 정해지지 않은 함수\n",
    "    # *args : 튜플로 인수를 받음\n",
    "    # **kwargs : 딕셔너리로 인수를 받음"
   ]
  },
  {
   "cell_type": "code",
   "execution_count": 12,
   "id": "9274e81e",
   "metadata": {},
   "outputs": [
    {
     "name": "stdout",
     "output_type": "stream",
     "text": [
      "inputs = (1, 2, 3)\n",
      "sum = np.int64(6), product = np.int64(6)\n",
      "\n",
      "inputs = (1, 2, 3, 4, 5, 6, 7, 8)\n",
      "sum = np.int64(36), product = np.int64(40320)\n"
     ]
    }
   ],
   "source": [
    "# *args의 활용\n",
    "\n",
    "#  계산을 위해 numpy 모듈을 np로 import\n",
    "import numpy as np\n",
    "\n",
    "# calcSumProduct2 함수명, inputs는 크기가 정해지지 않은 parameters(매개변수)\n",
    "def calSumProduct2(*inputs):\n",
    "    \"\"\"calSumProduct2 함수는 입력의 합과 곱을 튜플로 반환하는 함수이다\"\"\"\n",
    "\n",
    "    # f-string을 이용하여 inputs의 값을 출력\n",
    "    print(f'{inputs = }')\n",
    "\n",
    "    # numpy 모듈을 이용하여 inputs의 합과 곱을 계산\n",
    "    plus = np.sum(inputs)\n",
    "    multiple = np.prod(inputs)\n",
    "\n",
    "    # plus와 multiple을 튜플로 반환\n",
    "    return plus, multiple\n",
    "\n",
    "# 인수 1,2,3에 대한 함수를 적용하여 결과를 sum, product에 저장\n",
    "sum, product = calSumProduct2(1,2,3)\n",
    "\n",
    "# sum과 product을 출력\n",
    "print(f'{sum = }, {product = }\\n')\n",
    "\n",
    "# 인수 1,2,3,4,5,6,7,8에 대한 함수를 적용하여 결과를 sum, product에 저장\n",
    "sum, product = calSumProduct2(1,2,3,4,5,6,7,8)\n",
    "\n",
    "# sum과 product을 출력\n",
    "print(f'{sum = }, {product = }')"
   ]
  },
  {
   "cell_type": "code",
   "execution_count": 18,
   "id": "4b749aa8",
   "metadata": {},
   "outputs": [
    {
     "name": "stdout",
     "output_type": "stream",
     "text": [
      "inputs = {'a': 1, 'b': 2}\n",
      "sum = 3, product = 2\n",
      "\n",
      "inputs = {'a': 1, 'b': 2, 'c': 3, 'd': 4}\n",
      "sum = 10, product = 24\n"
     ]
    }
   ],
   "source": [
    "# **kwargs의 활용\n",
    "\n",
    "import numpy as np\n",
    "\n",
    "# calcSumProduct2 함수명, inputs는 크기가 정해지지 않은 parameters\n",
    "def calSumProduct2(**inputs):\n",
    "    \"\"\"calcSumProduct2 함수는 입력의 합과 곱을 튜플로 반환하는 함수이다.\"\"\"\n",
    "\n",
    "    # f-string을 이용하여 inputs의 값을 출력\n",
    "    print(f'{inputs = }')\n",
    "\n",
    "    # plus에 0을, multiple에 1을 초기값으로 할당\n",
    "    plus = 0\n",
    "    multiple = 1\n",
    "\n",
    "    # inputs가 딕셔너리 이므로 key와 value를 반복하여 _, value에 할당\n",
    "    for _, value in inputs.items():\n",
    "        # plus에 value를 더하여 plus를 갱신한다.\n",
    "        plus += value\n",
    "        # multiple에 value를 곱하여 multiple을 갱신\n",
    "        multiple *= value\n",
    "\n",
    "    # plus와 multiple을 튜플로 반환\n",
    "    return plus, multiple\n",
    "\n",
    "# 인수 a=1, b=2에 대한 함수를 적용하여 결과를 sum, product에 저장\n",
    "sum, product = calSumProduct2(a=1,b=2)\n",
    "print(f'{sum = }, {product = }\\n')\n",
    "\n",
    "# 인수 a=1, b=2, c=3, d=4에 대한 함수를 적용하여 결과를 sum, product에 저장\n",
    "sum, product = calSumProduct2(a=1, b=2, c=3, d=4)\n",
    "print(f'{sum = }, {product = }')"
   ]
  },
  {
   "cell_type": "code",
   "execution_count": null,
   "id": "39b0abd3",
   "metadata": {},
   "outputs": [],
   "source": [
    "# 지역변수와 전역 변수\n",
    "\n",
    "# 지역변수 : 함수 내에서 선언된 변수\n",
    "    # 함수 실행 시 생성되고 함수 종료 시 소멸됨 -> 메모리 관리에 효율적임\n",
    "\n",
    "# 전역변수 : 함수 외부에서 선언된 변수\n",
    "    # 함수 외부에서 선언되어 프로그램이 종료될 때까지 유지됨 -> 메모리 관리에 비효율적임\n",
    "    # 전역변수를 함수 내에서 선언하려면 global 전역변수명 으로 선언해야 함\n",
    "\n",
    "# +) 모듈화와 전역변수\n",
    "    # 모듈화는 프로그램을 작은 단위(함수)로 나누어 개발하는 것을 의미한다.\n",
    "    # 모듈화를 위해서는 변수를 독립적으로 관리하는 것이 중요하다.\n",
    "  # 모듈화를 위해서는 전역변수를 함수의 내부에서 사용하는 것 보다는 함수의 인수로 전달하여 사용하는 것이 좋다.  "
   ]
  },
  {
   "cell_type": "code",
   "execution_count": 19,
   "id": "c49092ab",
   "metadata": {},
   "outputs": [
    {
     "name": "stdout",
     "output_type": "stream",
     "text": [
      "var_global = '전역 변수'\n",
      "var_local = '인자는 지역 변수'\n",
      "var_global = '전역 변수'\n",
      "name 'var_local' is not defined\n"
     ]
    }
   ],
   "source": [
    "# 함수 내에서 전역변수의 사용\n",
    "    # 전역변수를 그냥 사용하면 됨\n",
    "\n",
    "# var_global은 전역 변수\n",
    "var_global = '전역 변수'\n",
    "\n",
    "# useGlobalVariable 함수명, var_local은 매개변수(지역 변수)\n",
    "def useGlobalVariable(var_local):\n",
    "\n",
    "    # 전역변수와 지역변수를 출력\n",
    "    print(f'{var_global = }')\n",
    "    print(f'{var_local = }')\n",
    "\n",
    "# useGlobalVariable 함수 호출, '인자는 지역변수'는 인자\n",
    "useGlobalVariable('인자는 지역 변수')\n",
    "\n",
    "# 전역변수를 출력 -> 값이 변하지 않음\n",
    "print(f'{var_global = }')\n",
    "\n",
    "# 지역변수를 출력 -> 함수 내에서만 사용되는 변수로서 함수 외부에서는 사용 불가\n",
    "try:\n",
    "    print(f'{var_local = }')\n",
    "except NameError as e:\n",
    "    print(e)"
   ]
  },
  {
   "cell_type": "code",
   "execution_count": 21,
   "id": "fabd2285",
   "metadata": {},
   "outputs": [
    {
     "name": "stdout",
     "output_type": "stream",
     "text": [
      "var_global = '전역 변수가 아닌 지역변수이다.'\n",
      "var_local = '인자는 지역 변수'\n",
      "var_global = '전역 변수'\n"
     ]
    }
   ],
   "source": [
    "# 함수 내에서 전역변수의 변경\n",
    "    # 함수 내에서 전역변수의 변경은 안된다. 전역변수가 아닌 지역변수로 생성된다.\n",
    "\n",
    "var_global = '전역 변수'\n",
    "\n",
    "def useGlobalVariable(var_local):\n",
    "\n",
    "    # var_global을 변경하면, 전역변수가 아닌 지역변수로 생성하여 사용됨\n",
    "    # 즉, 변수명은 동일하나 서로 다른 변수이다.\n",
    "    var_global = '전역 변수가 아닌 지역변수이다.'\n",
    "    print(f'{var_global = }')\n",
    "    print(f'{var_local = }')\n",
    "\n",
    "# useGlobalVariable 함수 호출, '인자는 지역 변수'는 인자\n",
    "useGlobalVariable('인자는 지역 변수')\n",
    "\n",
    "# 전역변수를 출력 -> 값이 변하지 않는다.\n",
    "print(f'{var_global = }')"
   ]
  },
  {
   "cell_type": "code",
   "execution_count": 22,
   "id": "d912e9aa",
   "metadata": {},
   "outputs": [
    {
     "name": "stdout",
     "output_type": "stream",
     "text": [
      "var_global = '전역 변수'\n",
      "var_local = '인자는 지역 변수'\n",
      "var_global = '이제는 전역 변수이다.'\n"
     ]
    }
   ],
   "source": [
    "# 함수 내에서 전역변수를 변경하는 방법\n",
    "    # global 전역변수명 으로 선언해야 한다.\n",
    "\n",
    "var_global = '전역 변수'\n",
    "\n",
    "def useGlobalVariable(var_local):\n",
    "\n",
    "    # var_global이 전역변수임을 명시\n",
    "    global var_global\n",
    "\n",
    "    # 전역변수와 지역변수를 출력\n",
    "    print(f'{var_global = }')\n",
    "    print(f'{var_local = }')\n",
    "\n",
    "    # var_global은 이제 전역변수이므로 전역변수의 값이 변경된다.\n",
    "    var_global = '이제는 전역 변수이다.'\n",
    "\n",
    "# useGlobalVariable 함수 호출, '인자는 지역 변수'는 인자\n",
    "useGlobalVariable('인자는 지역 변수')\n",
    "\n",
    "# 전역변수를 출력 -> 값이 변경됨\n",
    "print(f'{var_global = }')"
   ]
  },
  {
   "cell_type": "code",
   "execution_count": null,
   "id": "4f29e3e8",
   "metadata": {},
   "outputs": [],
   "source": [
    "# 람다함수 : 일반 함수를 가볍게 만들어 사용하기 위한 함수\n",
    "# 람다함수 = 람다표현식 = 익명함수"
   ]
  },
  {
   "cell_type": "code",
   "execution_count": null,
   "id": "a18dea23",
   "metadata": {},
   "outputs": [],
   "source": [
    "# 람다함수 정의\n",
    "\n",
    "# 람다함수 정의 방법 :\n",
    "\n",
    "# 일반함수 정의\n",
    "# def 함수명(매개변수):\n",
    "#     return 표현식\n",
    "\n",
    "# 함수명이 없는 람다 함수\n",
    "# lambda 매개변수: 표현식\n",
    "\n",
    "# 함수명이 있는 람다 함수\n",
    "# 함수명 = lambda 매개변수: 표현식"
   ]
  },
  {
   "cell_type": "code",
   "execution_count": null,
   "id": "df35945e",
   "metadata": {},
   "outputs": [
    {
     "data": {
      "text/plain": [
       "28"
      ]
     },
     "execution_count": 24,
     "metadata": {},
     "output_type": "execute_result"
    }
   ],
   "source": [
    "# 일반 함수 정의\n",
    "\n",
    "# x를 매개변수로 하여 20을 더하는 함수정의\n",
    "def add20(x):\n",
    "    return x+20\n",
    "\n",
    "# 일반 함수 호출\n",
    "addTen(8)"
   ]
  },
  {
   "cell_type": "code",
   "execution_count": 25,
   "id": "8177afad",
   "metadata": {},
   "outputs": [
    {
     "data": {
      "text/plain": [
       "<function __main__.<lambda>(x)>"
      ]
     },
     "execution_count": 25,
     "metadata": {},
     "output_type": "execute_result"
    }
   ],
   "source": [
    "# 함수명이 없는 람다함수\n",
    "\n",
    "# x를 매개변수로 하여 20을 더하는 함수를 lambda로 정의\n",
    "lambda x: x+20"
   ]
  },
  {
   "cell_type": "code",
   "execution_count": 27,
   "id": "1d72640f",
   "metadata": {},
   "outputs": [
    {
     "data": {
      "text/plain": [
       "28"
      ]
     },
     "execution_count": 27,
     "metadata": {},
     "output_type": "execute_result"
    }
   ],
   "source": [
    "# lambda 함수 호출 -> 함수명이 없으므로 함수를 호출할 수 없어 정의하여 바로 호출\n",
    "(lambda x: x+20)(8)"
   ]
  },
  {
   "cell_type": "code",
   "execution_count": 28,
   "id": "5ea0d91f",
   "metadata": {},
   "outputs": [
    {
     "data": {
      "text/plain": [
       "28"
      ]
     },
     "execution_count": 28,
     "metadata": {},
     "output_type": "execute_result"
    }
   ],
   "source": [
    "# 함수명이 있는 람다함수\n",
    "\n",
    "# x를 입력받아 x+20을 반환하는 람다함수를 add20으로 명명\n",
    "add20 = lambda x: x + 20\n",
    "\n",
    "# add20 함수 호출\n",
    "add20(8)"
   ]
  },
  {
   "cell_type": "code",
   "execution_count": 29,
   "id": "8bf12911",
   "metadata": {},
   "outputs": [
    {
     "data": {
      "text/plain": [
       "115"
      ]
     },
     "execution_count": 29,
     "metadata": {},
     "output_type": "execute_result"
    }
   ],
   "source": [
    "# 람다함수 응용\n",
    "\n",
    "# 람다함수에 외부 변수의 사용\n",
    "    # 람다함수 내부에서는 새로운 변수를 생성할 수 없으나 외부 변수는 사용가능\n",
    "\n",
    "# 외부변수\n",
    "y = 100\n",
    "\n",
    "# 외부변수를 참조하는 람다함수\n",
    "(lambda x: x+y+10)(5)"
   ]
  },
  {
   "cell_type": "code",
   "execution_count": 32,
   "id": "75361a73",
   "metadata": {},
   "outputs": [
    {
     "data": {
      "text/plain": [
       "'(3의 배수) 9'"
      ]
     },
     "execution_count": 32,
     "metadata": {},
     "output_type": "execute_result"
    }
   ],
   "source": [
    "# 람다함수에 조건부 표현식 사용\n",
    "\n",
    "# x가 3의 배수이면 '(3의 배수) '+str(x)를 반환하고, 아니면 x를 반환하는 람다함수\n",
    "(lambda x: '(3의 배수) '+str(x) if x%3 == 0 else x)(9)"
   ]
  },
  {
   "cell_type": "code",
   "execution_count": 33,
   "id": "0bc616c0",
   "metadata": {},
   "outputs": [
    {
     "data": {
      "text/plain": [
       "8"
      ]
     },
     "execution_count": 33,
     "metadata": {},
     "output_type": "execute_result"
    }
   ],
   "source": [
    "(lambda x: '(3의 배수) '+str(x) if x%3 == 0 else x)(8)"
   ]
  },
  {
   "cell_type": "code",
   "execution_count": 34,
   "id": "6dd851aa",
   "metadata": {},
   "outputs": [
    {
     "data": {
      "text/plain": [
       "'(3의 배수) 9'"
      ]
     },
     "execution_count": 34,
     "metadata": {},
     "output_type": "execute_result"
    }
   ],
   "source": [
    "# x가 3의 배수이면 '(3의 배수) '+str(x)를 반환하고,\n",
    "# x를 3으로 나눈 나머지가 1이면 float(x)를 반환하고,\n",
    "# 모두 해당이 안되면 x를 반환하는 람다함수\n",
    "(lambda x: '(3의 배수) '+str(x) if x%3 == 0 else float(x) if x%3 == 1 else x)(9)"
   ]
  },
  {
   "cell_type": "code",
   "execution_count": 35,
   "id": "99344219",
   "metadata": {},
   "outputs": [
    {
     "data": {
      "text/plain": [
       "7.0"
      ]
     },
     "execution_count": 35,
     "metadata": {},
     "output_type": "execute_result"
    }
   ],
   "source": [
    "(lambda x: '(3의 배수) '+str(x) if x%3 == 0 else float(x) if x%3 == 1 else x)(7)"
   ]
  },
  {
   "cell_type": "code",
   "execution_count": 36,
   "id": "c7fd27a0",
   "metadata": {},
   "outputs": [
    {
     "data": {
      "text/plain": [
       "5"
      ]
     },
     "execution_count": 36,
     "metadata": {},
     "output_type": "execute_result"
    }
   ],
   "source": [
    "(lambda x: '(3의 배수) '+str(x) if x%3 == 0 else float(x) if x%3 == 1 else x)(5)"
   ]
  },
  {
   "cell_type": "code",
   "execution_count": 39,
   "id": "3cfdc83d",
   "metadata": {},
   "outputs": [
    {
     "data": {
      "text/plain": [
       "3"
      ]
     },
     "execution_count": 39,
     "metadata": {},
     "output_type": "execute_result"
    }
   ],
   "source": [
    "# 람다함수에 인자 여러개 넣기\n",
    "\n",
    "# x가 3의 배수이면 x를, 아니면 x+y를 반환하는 람다함수\n",
    "(lambda x,y: x if x%3 == 0 else x+y)(3,4)"
   ]
  },
  {
   "cell_type": "code",
   "execution_count": 40,
   "id": "882290ae",
   "metadata": {},
   "outputs": [
    {
     "data": {
      "text/plain": [
       "6"
      ]
     },
     "execution_count": 40,
     "metadata": {},
     "output_type": "execute_result"
    }
   ],
   "source": [
    "(lambda x,y: x if x%3 == 0 else x+y)(2,4)"
   ]
  },
  {
   "cell_type": "code",
   "execution_count": 41,
   "id": "8e997279",
   "metadata": {},
   "outputs": [
    {
     "data": {
      "text/plain": [
       "[11, 12, 13]"
      ]
     },
     "execution_count": 41,
     "metadata": {},
     "output_type": "execute_result"
    }
   ],
   "source": [
    "# 람다함수의 활용\n",
    "    # 람다함수는 짧은 코드로 함수를 정의하여 사용하기 때문에 간단한 함수를 정의하여 다룬 함수의 인수로 사용할 때 유용하다.\n",
    "\n",
    "# map 함수에 적용\n",
    "    # map 함수는 iterable 객체의 원소를 지정된 함수로 처리해주는 함수이다.\n",
    "    # map (함수명, iterable 객체)\n",
    "        # map 함수의 결과는 map 객체로 반환됨 -> 값을 확인하기 위해서는 list() 함수를 변환하여 사용함\n",
    "\n",
    "# [1,2,3]의 원소를 x에 할당하여 x+10을 반환하는 람다함수를 호출하여 list로 변환\n",
    "list(map(lambda x: x+10, [1,2,3]))"
   ]
  },
  {
   "cell_type": "code",
   "execution_count": 42,
   "id": "5d6a4a44",
   "metadata": {},
   "outputs": [
    {
     "data": {
      "text/plain": [
       "['(3의 배수) 0', 1, 2, '(3의 배수) 3', 4, 5, '(3의 배수) 6', 7, 8, '(3의 배수) 9']"
      ]
     },
     "execution_count": 42,
     "metadata": {},
     "output_type": "execute_result"
    }
   ],
   "source": [
    "# range(10)의 원소를 x에 할당하여 x가 3의 배수이면 '(3의 배수) '+str(x)를 반환하고,\n",
    "# 아니면 x를 반환하는 람다함수를 호출하여 list로 변환\n",
    "ldMultiple3 = lambda x: '(3의 배수) '+str(x) if x%3 == 0 else x\n",
    "list(map(ldMultiple3, range(10)))"
   ]
  },
  {
   "cell_type": "code",
   "execution_count": 43,
   "id": "ccece866",
   "metadata": {},
   "outputs": [
    {
     "data": {
      "text/plain": [
       "['(3의 배수) 0', 1.0, 2, '(3의 배수) 3', 4.0, 5, '(3의 배수) 6', 7.0, 8, '(3의 배수) 9']"
      ]
     },
     "execution_count": 43,
     "metadata": {},
     "output_type": "execute_result"
    }
   ],
   "source": [
    "# range(10)의 원소를 x에 할당하여 x가 3의 배수이면 '(3의 배수) '+str(x)를 반환하고,\n",
    "# x를 3으로 나눈 나머지가 1이면 float(x)를 반환하고,\n",
    "# 모두 해당이 안되면 x를 반환하는 람다함수를 호출하여 list로 변환\n",
    "ldMultiple3f = lambda x: '(3의 배수) ' +str(x) if x%3 == 0 else float(x) if x%3 == 1 else x\n",
    "list(map(ldMultiple3f, range(10)))"
   ]
  },
  {
   "cell_type": "code",
   "execution_count": 44,
   "id": "6b70da22",
   "metadata": {},
   "outputs": [
    {
     "data": {
      "text/plain": [
       "[0, 101, 102, 3, 104, 105, 6, 107, 108, 9]"
      ]
     },
     "execution_count": 44,
     "metadata": {},
     "output_type": "execute_result"
    }
   ],
   "source": [
    "# range(10)의 원소를 x에 할당하고, [100]*10의 원소를 y에 할당하여\n",
    "# x가 3의 배수이면 x를, 아니면 x+y를 반환하는 람다함수를 호출하여 list로 변환\n",
    "ldMultiple3a = lambda x, y: x if x%3 == 0 else x+y\n",
    "list(map(ldMultiple3a, range(10), [100]*10))"
   ]
  },
  {
   "cell_type": "code",
   "execution_count": null,
   "id": "57a787b0",
   "metadata": {},
   "outputs": [],
   "source": [
    "# ---응용 파트 시작---"
   ]
  },
  {
   "cell_type": "code",
   "execution_count": 2,
   "id": "b8d81363",
   "metadata": {},
   "outputs": [
    {
     "name": "stdout",
     "output_type": "stream",
     "text": [
      "입력: [1, 2, 3, 4], 합: 10, 곱: 24\n"
     ]
    }
   ],
   "source": [
    "# 응용 1: 리스트 형태로 전달된 숫자들의 합과 곱을 반환하는 함수\n",
    "def calListSumProduct(numbers):\n",
    "    \"\"\"\n",
    "    리스트로 받은 숫자들의 합과 곱을 반환하는 함수\n",
    "    \"\"\"\n",
    "    total_sum = sum(numbers)\n",
    "    total_product = 1\n",
    "    for num in numbers:\n",
    "        total_product *= num\n",
    "\n",
    "    return total_sum, total_product\n",
    "\n",
    "nums = [1, 2, 3, 4]\n",
    "sum_, prod = calListSumProduct(nums)\n",
    "print(f\"입력: {nums}, 합: {sum_}, 곱: {prod}\")\n"
   ]
  },
  {
   "cell_type": "code",
   "execution_count": 3,
   "id": "8f11ac7b",
   "metadata": {},
   "outputs": [
    {
     "name": "stdout",
     "output_type": "stream",
     "text": [
      "입력된 점수의 평균: 80.0\n"
     ]
    }
   ],
   "source": [
    "# 응용 2: **kwargs를 활용하여 값들의 평균 구하기\n",
    "def averageValues(**kwargs):\n",
    "    \"\"\"\n",
    "    키워드 인자 중 숫자 값들의 평균을 반환하는 함수\n",
    "    \"\"\"\n",
    "    values = kwargs.values()\n",
    "    avg = sum(values) / len(values) if values else 0\n",
    "    return avg\n",
    "\n",
    "avg = averageValues(math=90, eng=80, sci=70)\n",
    "print(f\"입력된 점수의 평균: {avg}\")"
   ]
  },
  {
   "cell_type": "code",
   "execution_count": 5,
   "id": "3f607c51",
   "metadata": {},
   "outputs": [
    {
     "name": "stdout",
     "output_type": "stream",
     "text": [
      "최용비 학생의 성적표:\n",
      "math: 95점\n",
      "science: 87점\n",
      "english: 88점\n"
     ]
    }
   ],
   "source": [
    "# 응용 3: 기본 매개변수와 **kwargs 혼합 사용\n",
    "def reportScore(name=\"Unknown\", **subjects):\n",
    "    \"\"\"\n",
    "    이름과 과목별 점수를 받아 출력하는 함수\n",
    "    \"\"\"\n",
    "    print(f\"{name} 학생의 성적표:\")\n",
    "    for subject, score in subjects.items():\n",
    "        print(f\"{subject}: {score}점\")\n",
    "\n",
    "reportScore(\"최용비\", math=95, science=87, english=88)"
   ]
  },
  {
   "cell_type": "code",
   "execution_count": 6,
   "id": "28663ea8",
   "metadata": {},
   "outputs": [
    {
     "name": "stdout",
     "output_type": "stream",
     "text": [
      "덧셈 결과: 15\n",
      "곱셈 결과: 50\n"
     ]
    }
   ],
   "source": [
    "# 응용 4: 연산 종류에 따라 결과를 다르게 반환하는 함수\n",
    "def flexibleCalc(a, b, op=\"sum\"):\n",
    "    \"\"\"\n",
    "    두 수 a와 b에 대해 원하는 연산(op)을 수행하는 함수\n",
    "    \"\"\"\n",
    "    if op == \"sum\":\n",
    "        return a + b\n",
    "    elif op == \"sub\":\n",
    "        return a - b\n",
    "    elif op == \"mul\":\n",
    "        return a * b\n",
    "    elif op == \"div\":\n",
    "        return a / b if b != 0 else \"0으로 나눌 수 없습니다.\"\n",
    "    else:\n",
    "        return \"지원하지 않는 연산입니다.\"\n",
    "\n",
    "print(f\"덧셈 결과: {flexibleCalc(10, 5, 'sum')}\")\n",
    "print(f\"곱셈 결과: {flexibleCalc(10, 5, 'mul')}\")"
   ]
  },
  {
   "cell_type": "code",
   "execution_count": 7,
   "id": "78e5aaab",
   "metadata": {},
   "outputs": [
    {
     "name": "stdout",
     "output_type": "stream",
     "text": [
      "계산 결과: {'sum': 12, 'difference': 4, 'product': 32, 'quotient': 2.0}\n"
     ]
    }
   ],
   "source": [
    "# 응용 5: 계산 결과를 딕셔너리로 반환\n",
    "def returnAsDict(a, b):\n",
    "    \"\"\"\n",
    "    두 수의 합, 차, 곱, 나눗셈 결과를 딕셔너리로 반환\n",
    "    \"\"\"\n",
    "    result = {\n",
    "        \"sum\": a + b,\n",
    "        \"difference\": a - b,\n",
    "        \"product\": a * b,\n",
    "        \"quotient\": a / b if b != 0 else None\n",
    "    }\n",
    "    return result\n",
    "\n",
    "result_dict = returnAsDict(8, 4)\n",
    "print(f\"계산 결과: {result_dict}\")"
   ]
  },
  {
   "cell_type": "code",
   "execution_count": 8,
   "id": "616954eb",
   "metadata": {},
   "outputs": [
    {
     "name": "stdout",
     "output_type": "stream",
     "text": [
      "(8, 15)\n"
     ]
    }
   ],
   "source": [
    "# 응용 6: 튜플로 받은 두 숫자를 더하고 곱하기\n",
    "def tupleOperation(nums):\n",
    "    \"\"\"\n",
    "    튜플 형태로 받은 두 수의 합과 곱을 반환하는 함수\n",
    "    \"\"\"\n",
    "    if len(nums) != 2:\n",
    "        return \"두 개의 값만 전달해주세요.\"\n",
    "    a, b = nums\n",
    "    return a + b, a * b\n",
    "\n",
    "print(tupleOperation((5, 3)))"
   ]
  }
 ],
 "metadata": {
  "kernelspec": {
   "display_name": "base",
   "language": "python",
   "name": "python3"
  },
  "language_info": {
   "codemirror_mode": {
    "name": "ipython",
    "version": 3
   },
   "file_extension": ".py",
   "mimetype": "text/x-python",
   "name": "python",
   "nbconvert_exporter": "python",
   "pygments_lexer": "ipython3",
   "version": "3.12.10"
  }
 },
 "nbformat": 4,
 "nbformat_minor": 5
}
