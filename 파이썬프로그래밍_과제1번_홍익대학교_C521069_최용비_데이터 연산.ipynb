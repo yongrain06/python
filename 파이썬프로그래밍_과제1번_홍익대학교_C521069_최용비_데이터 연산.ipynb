{
 "cells": [
  {
   "cell_type": "code",
   "execution_count": null,
   "id": "b5a1585a",
   "metadata": {},
   "outputs": [],
   "source": [
    "#산업·데이터공학과 C521069 최용비 과제1번 - 데이터 연산 "
   ]
  },
  {
   "cell_type": "code",
   "execution_count": 1,
   "id": "9b94046e",
   "metadata": {},
   "outputs": [],
   "source": [
    "# 데이터의 연산\n",
    "## 연산자 : 연산자는 데이터를 처리하는 기호로, 연산을 수행하는 기능을 가지고 있음\n",
    "    ### 연삼 함수를 기호에 대응시킨 것\n",
    "## 연산자를 사용한 문장을 표현식이라고 함\n",
    "\n",
    "#파이썬 연산자 순위 : 산술 연산자 > 관계 연산자 > 논리 연산자"
   ]
  },
  {
   "cell_type": "code",
   "execution_count": 2,
   "id": "3a86a648",
   "metadata": {},
   "outputs": [
    {
     "name": "stdout",
     "output_type": "stream",
     "text": [
      "2+3 = 5\n",
      "2.0+3 = 5.0\n",
      "2.0+3.0 = 5.0\n",
      "'2'+'3' = '23'\n",
      "unsupported operand type(s) for +: 'int' and 'str'\n"
     ]
    }
   ],
   "source": [
    "# 1. 산술 연산\n",
    "\n",
    "print(f'{2+3 = }') ### 정수 + 정수 = 정수\n",
    "print(f'{2.0+3 = }') ### 정수 + 실수 = 실수\n",
    "print(f'{2.0+3.0 = }') ### 실수 + 실수 = 실수\n",
    "print(f'{'2'+'3' = }') ### 문자열 + 문자열 = 문자열\n",
    "\n",
    "    ### 에러 발생\n",
    "try:\n",
    "    print(f'{2+'3' = }')#--> 정수 + 문자열 = 에러\n",
    "except Exception as e:\n",
    "    print(e)"
   ]
  },
  {
   "cell_type": "code",
   "execution_count": 3,
   "id": "89e86255",
   "metadata": {},
   "outputs": [
    {
     "name": "stdout",
     "output_type": "stream",
     "text": [
      "2-3 = -1\n",
      "2.0-3 = -1.0\n",
      "2.0-3.0 = -1.0\n",
      "2*3 = 6\n",
      "2.0*3 = 6.0\n",
      "2.0*3.0 = 6.0\n",
      "2/3 = 0.6666666666666666\n",
      "2.0/3 = 0.6666666666666666\n",
      "2.0/3.0 = 0.6666666666666666\n"
     ]
    }
   ],
   "source": [
    "print(f'{2-3 = }') # 정수 - 정수  = 정수\n",
    "print(f'{2.0-3 = }') # 실수 - 정수 = 실수\n",
    "print(f'{2.0-3.0 = }') # 실수 - 실수 = 실수\n",
    "print(f'{2*3 = }') # 정수 * 정수 = 정수\n",
    "print(f'{2.0*3 = }') # 실수 * 정수 = 실수\n",
    "print(f'{2.0*3.0 = }') # 실수 * 실수 = 실수\n",
    "print(f'{2/3 = }') # 정수 / 정수 = 정수\n",
    "print(f'{2.0/3 = }') # 실수 / 정수 = 실수\n",
    "print(f'{2.0/3.0 = }') # 실수 / 실수 = 실수"
   ]
  },
  {
   "cell_type": "code",
   "execution_count": 4,
   "id": "7a3627b5",
   "metadata": {},
   "outputs": [
    {
     "name": "stdout",
     "output_type": "stream",
     "text": [
      "20//3 = 6\n",
      "20%3 = 2\n"
     ]
    }
   ],
   "source": [
    "## 1. 몫\n",
    "print(f'{20//3 = }')\n",
    "\n",
    "## 2. 나머지\n",
    "print(f'{20%3 = }')"
   ]
  },
  {
   "cell_type": "code",
   "execution_count": 5,
   "id": "9e7e78d2",
   "metadata": {},
   "outputs": [
    {
     "name": "stdout",
     "output_type": "stream",
     "text": [
      "2**3 = 8\n"
     ]
    }
   ],
   "source": [
    "## 3. 거듭제곱\n",
    "print(f'{2**3 = }')"
   ]
  },
  {
   "cell_type": "code",
   "execution_count": 6,
   "id": "b6ae0bbc",
   "metadata": {},
   "outputs": [
    {
     "name": "stdout",
     "output_type": "stream",
     "text": [
      "var_x + var_x = 'AbcAbc'\n",
      "var_y + var_y = [100, 2, 3, 100, 2, 3]\n",
      "var_x * 3 = 'AbcAbcAbc'\n",
      "var_y * 3 = [100, 2, 3, 100, 2, 3, 100, 2, 3]\n"
     ]
    }
   ],
   "source": [
    "var_x = 'Abc'\n",
    "var_y = [100, 2, 3]\n",
    "\n",
    "## 4. 문자열과 문자열의 합\n",
    "print(f'{var_x + var_x = }')\n",
    "\n",
    "## 5. 리스트와 리스트의 합\n",
    "print(f'{var_y + var_y = }')\n",
    "\n",
    "## 6. 문자열과 정수의 곱\n",
    "print(f'{var_x * 3 = }')\n",
    "\n",
    "## 7. 리스트와 정수의 곱\n",
    "print(f'{var_y * 3 = }')"
   ]
  },
  {
   "cell_type": "code",
   "execution_count": 7,
   "id": "2dcb9316",
   "metadata": {},
   "outputs": [
    {
     "name": "stdout",
     "output_type": "stream",
     "text": [
      "2==3 = False\n",
      "2!=3 = True\n",
      "2>3 = False\n",
      "2<3 = True\n",
      "2>=3 = False\n",
      "2<=3 = True\n"
     ]
    }
   ],
   "source": [
    "# 2. 비교 연산\n",
    "\n",
    "print(f'{2==3 = }')\n",
    "print(f'{2!=3 = }')\n",
    "print(f'{2>3 = }')\n",
    "print(f'{2<3 = }')\n",
    "print(f'{2>=3 = }')\n",
    "print(f'{2<=3 = }')"
   ]
  },
  {
   "cell_type": "code",
   "execution_count": 8,
   "id": "7e4078c5",
   "metadata": {},
   "outputs": [
    {
     "name": "stdout",
     "output_type": "stream",
     "text": [
      "(var_y == [1, 2, 3]) = True\n",
      "(var_y == (1, 2, 3)) = False\n",
      "(var_y == [1, 2]) = False\n",
      "(var_y != [1, 2]) = True\n",
      "(var_y > [1, 2]) = True\n",
      "(var_y < [1, 2]) = False\n"
     ]
    }
   ],
   "source": [
    "## 변수 var_y에 리스트 [1, 2, 3]을 할당\n",
    "var_y = [1, 2, 3]\n",
    "\n",
    "print(f'{(var_y == [1, 2, 3]) = }') # [1, 2, 3]과 같은지 비교\n",
    "print(f'{(var_y == (1, 2, 3)) = }') # (1, 2, 3)과 같은지 비교\n",
    "print(f'{(var_y == [1, 2]) = }') # [1, 2]과 같은지 비교\n",
    "print(f'{(var_y != [1, 2]) = }') # [1, 2]과 다른지 비교\n",
    "print(f'{(var_y > [1, 2]) = }') # [1, 2]보다 큰지 비교\n",
    "print(f'{(var_y < [1, 2]) = }') # [1, 2]보다 작은지비교"
   ]
  },
  {
   "cell_type": "code",
   "execution_count": 9,
   "id": "3aab780d",
   "metadata": {},
   "outputs": [],
   "source": [
    "# 3. 논리 연산 : 논리적인 명제를 판단하는 연산자로서 True 또는 False를 반환\n",
    "    ## and : 논리곱, 둘 다 참일 때만 참\n",
    "    ## or : 논리합, 둘 중 하나만 참이어도 참\n",
    "    ## not : 논리부정, 참이면 거짓, 거짓이면 참"
   ]
  },
  {
   "cell_type": "code",
   "execution_count": 10,
   "id": "dff026b3",
   "metadata": {},
   "outputs": [
    {
     "data": {
      "text/plain": [
       "True"
      ]
     },
     "execution_count": 10,
     "metadata": {},
     "output_type": "execute_result"
    }
   ],
   "source": [
    "## True 와 True를 and 연산\n",
    "True and True"
   ]
  },
  {
   "cell_type": "code",
   "execution_count": 11,
   "id": "563d5b51",
   "metadata": {},
   "outputs": [
    {
     "name": "stdout",
     "output_type": "stream",
     "text": [
      "var_y = False\n",
      "(var_x and var_y) = False\n",
      "(var_x or var_y) = True\n",
      "(not var_x) = False\n"
     ]
    }
   ],
   "source": [
    "## 1. 변수 var_x에 불리언 True를 할당\n",
    "var_x = True\n",
    "\n",
    "## 2. 변수 var_y에 10 > 20의 결과를 할당\n",
    "var_y = (10 > 20)\n",
    "\n",
    "print(f'{var_y = }')\n",
    "print(f'{(var_x and var_y) = }')\n",
    "print(f'{(var_x or var_y) = }')\n",
    "print(f'{(not var_x) = }')"
   ]
  },
  {
   "cell_type": "code",
   "execution_count": 12,
   "id": "1e2f38d9",
   "metadata": {},
   "outputs": [
    {
     "name": "stdout",
     "output_type": "stream",
     "text": [
      "(2==3) and (2!=3) = False\n"
     ]
    }
   ],
   "source": [
    "## 3. 관계연산자와 논리연산자를 함께 사용\n",
    "print(f'{(2==3) and (2!=3) = }')"
   ]
  },
  {
   "cell_type": "code",
   "execution_count": 13,
   "id": "766e6a9b",
   "metadata": {},
   "outputs": [
    {
     "name": "stdout",
     "output_type": "stream",
     "text": [
      "(1 in var_y) = True\n",
      "('1' in var_y) = False\n",
      "(4 in var_y) = False\n",
      "(1 not in var_y) = False\n",
      "(4 not in var_y) = True\n"
     ]
    }
   ],
   "source": [
    "# 4. 멤버십 연산 : 데이터가 특정 데이터 집합에 포함되어 있는지를 확인하는 연산자로서 True 또는 False를 반환\n",
    "    ## in : 포함되어 있으면 참\n",
    "    ## not in : 포함되어 있지 않으면 참\n",
    "\n",
    "## 1. 변수 var_y에 리스트 [1, 2, 3]을 할당\n",
    "var_y = [1, 2, 3]\n",
    "\n",
    "print(f'{(1 in var_y) = }') # 1이 포함되어 있는지 확인\n",
    "print(f'{('1' in var_y) = }') # 문자열 '1'이 포함되어 있는지 확인\n",
    "print(f'{(4 in var_y) = }') # 4가 포함되어 있는지 확인\n",
    "print(f'{(1 not in var_y) = }') # 1이 포함되어 있지 않은지 확인\n",
    "print(f'{(4 not in var_y) = }') # 4가 포함되어 있지 않은지 확인"
   ]
  },
  {
   "cell_type": "code",
   "execution_count": 14,
   "id": "75f97c83",
   "metadata": {},
   "outputs": [],
   "source": [
    "# 5. 식별 연산 : 두 개의 데이터가 동일한 객체인지(동일한 주소를 갖는지)를 확인하는 연산자로서 True 또는 False를 반환\n",
    "    ## is : 동일한 객체이면 참\n",
    "    ## is not : 동일한 객체가 아니면 참"
   ]
  },
  {
   "cell_type": "code",
   "execution_count": 15,
   "id": "82afd62a",
   "metadata": {},
   "outputs": [
    {
     "name": "stdout",
     "output_type": "stream",
     "text": [
      "(var_x == 10) = True\n",
      "(var_x is 10) = True\n"
     ]
    },
    {
     "name": "stderr",
     "output_type": "stream",
     "text": [
      "<>:8: SyntaxWarning: \"is\" with 'int' literal. Did you mean \"==\"?\n",
      "<>:8: SyntaxWarning: \"is\" with 'int' literal. Did you mean \"==\"?\n",
      "C:\\Users\\Public\\Documents\\ESTsoft\\CreatorTemp\\ipykernel_32\\2970824245.py:8: SyntaxWarning: \"is\" with 'int' literal. Did you mean \"==\"?\n",
      "  print(f'{(var_x is 10) = }')\n"
     ]
    }
   ],
   "source": [
    "## 1. var_x에 정수 10을 할당\n",
    "var_x = 10\n",
    "\n",
    "## 2. var_x가 10과 값이 같은 지 확인\n",
    "print(f'{(var_x == 10) = }')\n",
    "\n",
    "## 3. var_x가 10과 주소가 같은 지 확인 --> 경고 발생\n",
    "print(f'{(var_x is 10) = }')"
   ]
  },
  {
   "cell_type": "code",
   "execution_count": 16,
   "id": "1c7def8f",
   "metadata": {},
   "outputs": [
    {
     "name": "stdout",
     "output_type": "stream",
     "text": [
      "(var_x is var_y) = False\n",
      "(var_x is var_z) = True\n",
      "(var_x is not var_y) = True\n",
      "(var_x is not var_y) = True\n"
     ]
    }
   ],
   "source": [
    "var_x = 10\n",
    "var_y = 10.0\n",
    "var_z = var_x\n",
    "\n",
    "print(f'{(var_x is var_y) = }') # var_x와 var_y의 주소가 같은지 확인\n",
    "print(f'{(var_x is var_z) = }') # var_x와 var_y의 주소가 같은지 확인\n",
    "print(f'{(var_x is not var_y) = }') # var_x와 var_y의 주소가 다른지 확인\n",
    "print(f'{(var_x is not var_y) = }') # var_x와 var_z의 주소가 다른지 확인"
   ]
  },
  {
   "cell_type": "code",
   "execution_count": 17,
   "id": "450ad99b",
   "metadata": {},
   "outputs": [],
   "source": [
    "# 6. 복합 대입 연산 : 연산과 대입을 동시에 수행하는 연산자\n",
    "    ## x += a: x = x + a\n",
    "    ## x -= a: x = x - a\n",
    "    ## x *= a: x = x * a\n",
    "    ## x /= a: x = x / a\n",
    "    ## x //= a: x = x // a\n",
    "    ## x %= a: x = x % a\n",
    "    ## x **= a: x = x ** a"
   ]
  },
  {
   "cell_type": "code",
   "execution_count": 18,
   "id": "a0c0ac3a",
   "metadata": {},
   "outputs": [
    {
     "name": "stdout",
     "output_type": "stream",
     "text": [
      "2\n"
     ]
    }
   ],
   "source": [
    "var_x = 1\n",
    "\n",
    "# var_x = var_x + 1\n",
    "var_x += 1\n",
    "\n",
    "print(var_x)"
   ]
  },
  {
   "cell_type": "code",
   "execution_count": 19,
   "id": "3eab4fb4",
   "metadata": {},
   "outputs": [
    {
     "name": "stdout",
     "output_type": "stream",
     "text": [
      "11\n",
      "10\n",
      "20\n",
      "10.0\n",
      "5.0\n",
      "1.0\n",
      "1.0\n"
     ]
    }
   ],
   "source": [
    "var_x = 1\n",
    "\n",
    "# ; 세미콜론으로 한 줄에 여러 개의 명령어를 작성가능\n",
    "var_x += 10; print(var_x)\n",
    "var_x -= 1; print(var_x)\n",
    "var_x *= 2; print(var_x)\n",
    "var_x /= 2; print(var_x)\n",
    "var_x //= 2; print(var_x)\n",
    "var_x %= 2; print(var_x)\n",
    "var_x **= 2; print(var_x)"
   ]
  },
  {
   "cell_type": "code",
   "execution_count": 20,
   "id": "960d645e",
   "metadata": {},
   "outputs": [],
   "source": [
    "# 7. 연산의 중첩 : 여러 연산을 조합 및 중첩하여 수행할 수 있음\n",
    "\n",
    "## 연산의 우선순위\n",
    "    ### 연산자 우선순위에 따라 연산이 수행됨\n",
    "    ### 연산자 우선순위는 수학에서와 동일"
   ]
  },
  {
   "cell_type": "code",
   "execution_count": 1,
   "id": "061eccae",
   "metadata": {},
   "outputs": [
    {
     "name": "stdout",
     "output_type": "stream",
     "text": [
      "13\n",
      "256\n",
      "True\n",
      "False\n",
      "False\n"
     ]
    }
   ],
   "source": [
    "print(2**3+5) # 2의 3제곱에 5를 더한 결과 출력\n",
    "print(2**(3+5)) # 2의 (3+5)제곱을 출력\n",
    "print(2+3<=4*5) # 2+3 이 4*5보다 작거나 같은지 출력\n",
    "print(not 2+3<=4*5) # 2+3이 4*5보다 작거나 같지 않은지 출력\n",
    "print(not ((2+3)<=(4*5))) # 2+3이 4*5보다 작거나 같지 않은지 출력"
   ]
  },
  {
   "cell_type": "code",
   "execution_count": 1,
   "id": "2d9c822a",
   "metadata": {},
   "outputs": [
    {
     "name": "stdout",
     "output_type": "stream",
     "text": [
      "평균 점수: 84.33\n",
      "합격 여부: True\n"
     ]
    }
   ],
   "source": [
    "# 1. 점수 평균 계산과 비교 연산\n",
    "\n",
    "kor = 85\n",
    "eng = 90\n",
    "math = 78\n",
    "\n",
    "avg = (kor + eng + math) / 3\n",
    "print(f\"평균 점수: {avg:.2f}\")\n",
    "\n",
    "# 평균이 80점 이상이면 합격\n",
    "print(f\"합격 여부: {avg >= 80}\")\n"
   ]
  },
  {
   "cell_type": "code",
   "execution_count": 4,
   "id": "f26197a5",
   "metadata": {},
   "outputs": [
    {
     "name": "stdout",
     "output_type": "stream",
     "text": [
      "성인입니까? False\n"
     ]
    }
   ],
   "source": [
    "# 2. 나이에 따라 성인 여부 판단 (논리연산)\n",
    "\n",
    "age = int(input(\"나이를 입력하세요: \"))#--> 18\n",
    "is_adult = age >= 20 and age <= 100\n",
    "\n",
    "print(f\"성인입니까? {is_adult}\")"
   ]
  },
  {
   "cell_type": "code",
   "execution_count": 5,
   "id": "ea250fb5",
   "metadata": {},
   "outputs": [
    {
     "name": "stdout",
     "output_type": "stream",
     "text": [
      "목록에 없는 제품입니다.\n"
     ]
    }
   ],
   "source": [
    "# 3. 리스트 안에 값이 있는지 확인 (멤버십 연산자)\n",
    "\n",
    "wish_list = [\"아이패드\", \"갤럭시탭\", \"노트북\"]\n",
    "item = input(\"원하는 제품을 입력하세요: \")#--> 세탁기\n",
    "\n",
    "if item in wish_list:\n",
    "    print(\"위시리스트에 있습니다!\")\n",
    "else:\n",
    "    print(\"목록에 없는 제품입니다.\")"
   ]
  },
  {
   "cell_type": "code",
   "execution_count": 6,
   "id": "31b7381e",
   "metadata": {},
   "outputs": [
    {
     "name": "stdout",
     "output_type": "stream",
     "text": [
      "초기 포인트: 0\n",
      "구매 후 포인트: 1000\n",
      "이벤트 두 배 적립 후: 2000\n"
     ]
    }
   ],
   "source": [
    "# 4. 복합 대입 연산으로 포인트 적립 시스템\n",
    "\n",
    "points = 0\n",
    "print(f\"초기 포인트: {points}\")\n",
    "\n",
    "points += 1000\n",
    "print(f\"구매 후 포인트: {points}\")\n",
    "\n",
    "points *= 2\n",
    "print(f\"이벤트 두 배 적립 후: {points}\")"
   ]
  },
  {
   "cell_type": "code",
   "execution_count": 7,
   "id": "4021424c",
   "metadata": {},
   "outputs": [
    {
     "name": "stdout",
     "output_type": "stream",
     "text": [
      "a == b: True\n",
      "a is b: False\n",
      "a is c: True\n"
     ]
    }
   ],
   "source": [
    "# 5. 동일 객체 비교 (식별 연산자)\n",
    "\n",
    "a = [1, 2, 3]\n",
    "b = [1, 2, 3]\n",
    "c = a\n",
    "\n",
    "print(f\"a == b: {a == b}\")      # 내용이 같음\n",
    "print(f\"a is b: {a is b}\")      # 객체는 다름\n",
    "print(f\"a is c: {a is c}\")      # 같은 객체"
   ]
  }
 ],
 "metadata": {
  "kernelspec": {
   "display_name": "base",
   "language": "python",
   "name": "python3"
  },
  "language_info": {
   "codemirror_mode": {
    "name": "ipython",
    "version": 3
   },
   "file_extension": ".py",
   "mimetype": "text/x-python",
   "name": "python",
   "nbconvert_exporter": "python",
   "pygments_lexer": "ipython3",
   "version": "3.12.9"
  }
 },
 "nbformat": 4,
 "nbformat_minor": 5
}
