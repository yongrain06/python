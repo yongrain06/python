{
 "cells": [
  {
   "cell_type": "code",
   "execution_count": null,
   "id": "4a1e0309",
   "metadata": {},
   "outputs": [],
   "source": [
    "# 파이썬프로그래밍_과제 3번_홍익대학교_C521069_최용비_iterable 컴프리헨션"
   ]
  },
  {
   "cell_type": "code",
   "execution_count": null,
   "id": "abe6502c",
   "metadata": {},
   "outputs": [],
   "source": [
    "#컴프리헨션 : 패턴이 있는 리스트, 딕셔너리, 세트를 간단하게 작성할 수 있는 파이썬만의 고유한 문법\n",
    "# 정식 for문이나 if문을 사용하지 않고 반복적인 데이터 패턴을 생성할 수 있음"
   ]
  },
  {
   "cell_type": "code",
   "execution_count": null,
   "id": "b74f2fb7",
   "metadata": {},
   "outputs": [],
   "source": [
    "# 리스트 컴프리헨션 : 컴프리헨션을 이용하여 리스트를 생성하는 방법"
   ]
  },
  {
   "cell_type": "code",
   "execution_count": 1,
   "id": "6585a5d1",
   "metadata": {},
   "outputs": [
    {
     "name": "stdout",
     "output_type": "stream",
     "text": [
      "nums_comp = [11, 12, 13, 14, 15]\n"
     ]
    }
   ],
   "source": [
    "# 리스트 컴프리헨션을 이용하여 리스트를 생성하는 방법\n",
    "    # [표현식 for 항목 in 반복가능객체]\n",
    "\n",
    "# 1부터 5까지 순차적으로 num에 대입하고, num+10을 리스트에 추가\n",
    "nums_comp = [num+10 for num in range(1,6)]\n",
    "print(f'{nums_comp = }')"
   ]
  },
  {
   "cell_type": "code",
   "execution_count": 3,
   "id": "8c7c4aaa",
   "metadata": {},
   "outputs": [
    {
     "name": "stdout",
     "output_type": "stream",
     "text": [
      "nums_for = [11, 12, 13, 14, 15]\n"
     ]
    }
   ],
   "source": [
    "# for문을 사용한 리스트 생성과 비교\n",
    "\n",
    "# 숫자를 담을 수 있는 빈 리스트 생성\n",
    "nums_for = []\n",
    "\n",
    "# 1부터 5까지 순차적으로 num에 대입\n",
    "for num in range(1,6):\n",
    "    # append() 함수로 리스트에 num+10 추가\n",
    "    nums_for.append(num+10)\n",
    "\n",
    "# 리스트 출력\n",
    "print(f'{nums_for = }')"
   ]
  },
  {
   "cell_type": "code",
   "execution_count": null,
   "id": "7357d312",
   "metadata": {},
   "outputs": [],
   "source": [
    "# map 함수를 사용한 리스트 생성과 비교\n",
    "#  map 함수도 비슷한 기능을 수행할 수 있으나, 컴프리헨션은 map 함수보다 더 직관적임\n",
    "    # map() 함수 : 리스트나 튜플 자료형의 각 요소를 지정된 함수로 처리해주는 함수"
   ]
  },
  {
   "cell_type": "code",
   "execution_count": 4,
   "id": "20f2fcf5",
   "metadata": {},
   "outputs": [
    {
     "data": {
      "text/plain": [
       "15"
      ]
     },
     "execution_count": 4,
     "metadata": {},
     "output_type": "execute_result"
    }
   ],
   "source": [
    "# 입력한 숫자에 10을 더하는 함수를 정의\n",
    "def add_ten(num):\n",
    "    return num + 10\n",
    "\n",
    "add_ten(5) # 함수 테스트"
   ]
  },
  {
   "cell_type": "code",
   "execution_count": 5,
   "id": "14644b47",
   "metadata": {},
   "outputs": [
    {
     "data": {
      "text/plain": [
       "<map at 0x1eee4074190>"
      ]
     },
     "execution_count": 5,
     "metadata": {},
     "output_type": "execute_result"
    }
   ],
   "source": [
    "# map 함수의 동작 확인 -> map 객체가 반환됨\n",
    "map(add_ten, [1,2,3,4,5])"
   ]
  },
  {
   "cell_type": "code",
   "execution_count": 6,
   "id": "5a3060c6",
   "metadata": {},
   "outputs": [
    {
     "data": {
      "text/plain": [
       "[11, 12, 13, 14, 15]"
      ]
     },
     "execution_count": 6,
     "metadata": {},
     "output_type": "execute_result"
    }
   ],
   "source": [
    "# map 객체를 리스트로 변환\n",
    "list(map(add_ten, [1,2,3,4,5]))"
   ]
  },
  {
   "cell_type": "code",
   "execution_count": 7,
   "id": "a55a2a8c",
   "metadata": {},
   "outputs": [
    {
     "name": "stdout",
     "output_type": "stream",
     "text": [
      "nums_map = [11, 12, 13, 14, 15]\n"
     ]
    }
   ],
   "source": [
    "# map을 적용하여 컴프리헨션과 동일한 결과를 얻을 수 있음\n",
    "nums_map = list(map(add_ten, range(1,6)))\n",
    "print(f'{nums_map = }')"
   ]
  },
  {
   "cell_type": "code",
   "execution_count": 8,
   "id": "91fd1442",
   "metadata": {},
   "outputs": [
    {
     "name": "stdout",
     "output_type": "stream",
     "text": [
      "nums_math = [1, 3, 5, 7, 9]\n"
     ]
    }
   ],
   "source": [
    "# 수식을 적용한 리스트 컴프리헨션\n",
    "    # 표현식에 수식을 적용할 수 있음\n",
    "\n",
    "# 1부터 5까지 순차적으로 num에 대입하고, num에 2를 곱하고 1을 뺀 값을 리스트에 추가\n",
    "nums_math = [num*2-1 for num in range(1,6)]\n",
    "print(f'{nums_math = }')"
   ]
  },
  {
   "cell_type": "code",
   "execution_count": 9,
   "id": "329ca9b4",
   "metadata": {},
   "outputs": [
    {
     "name": "stdout",
     "output_type": "stream",
     "text": [
      "nums_func = ['Int_1', 'Int_2', 'Int_3', 'Int_4', 'Int_5']\n"
     ]
    }
   ],
   "source": [
    "# 함수를 적용한 리스트 컴프리헨션\n",
    "    # 표현식에 함수를 적용할 수 있음\n",
    "\n",
    "# 입력한 데이터를 문자열로 변환하고 'Int_' 를 앞에 붙이는 함수를 정의\n",
    "def addString(x):\n",
    "    return 'Int_' + str(x)\n",
    "\n",
    "# 1부터 5까지 순차적으로 num에 대입하고, num을 addString() 함수에 대입한 결과를 리스트에 추가\n",
    "nums_func = [addString(num) for num in range(1,6)]\n",
    "print(f'{nums_func = }')#-> 리스트 출력력"
   ]
  },
  {
   "cell_type": "code",
   "execution_count": null,
   "id": "0a0a0579",
   "metadata": {},
   "outputs": [
    {
     "name": "stdout",
     "output_type": "stream",
     "text": [
      "nums_odds = [1, 3, 5]\n"
     ]
    }
   ],
   "source": [
    "# if 조건문을 적용한 리스트 컴프리헨션\n",
    " # if문만 쓸 때는 for문 오른쪽에, if else문을 쓸때는 for문 왼쪽에 작성\n",
    "\n",
    "# 1부터 5까지 순차적으로 num에 대입하고, num이 홀수이면 리스트에 추가\n",
    "nums_odds = [num for num in range(1,6) if num % 2 == 1]\n",
    "print(f'{nums_odds = }')"
   ]
  },
  {
   "cell_type": "code",
   "execution_count": 12,
   "id": "d30d3724",
   "metadata": {},
   "outputs": [
    {
     "name": "stdout",
     "output_type": "stream",
     "text": [
      "nums_odds_zero = [1, 0, 3, 0, 5]\n"
     ]
    }
   ],
   "source": [
    "# 1부터 5까지 순차적으로 num에 대입하고, num이 홀수이면 리스트에 그 값을 추가하고 아니면 0을 추가\n",
    "nums_odds_zero = [num if num % 2 == 1 else 0 for num in range(1,6)]\n",
    "print(f'{nums_odds_zero = }')"
   ]
  },
  {
   "cell_type": "code",
   "execution_count": 13,
   "id": "480d88ab",
   "metadata": {},
   "outputs": [
    {
     "name": "stdout",
     "output_type": "stream",
     "text": [
      "nums_odds_less4 = [1, 3]\n"
     ]
    }
   ],
   "source": [
    "# 여러개의 if조건문을 중첩가능\n",
    "\n",
    "# 1부터 5까지 순차적으로 num에 대입하고, num이 홀수이면서 4보다 작으면 리스트에 추가\n",
    "nums_odds_less4 = [num for num in range(1,6) if num % 2 == 1 if num < 4]\n",
    "print(f'{nums_odds_less4 = }')"
   ]
  },
  {
   "cell_type": "code",
   "execution_count": 14,
   "id": "614cd6c0",
   "metadata": {},
   "outputs": [
    {
     "name": "stdout",
     "output_type": "stream",
     "text": [
      "nums_pairs = [(1, 'a'), (1, 'b'), (1, 'c'), (2, 'a'), (2, 'b'), (2, 'c')]\n"
     ]
    }
   ],
   "source": [
    "# 중첩된 리스트 컴프리헨션\n",
    " # 컴프리헨션은 내부에서 for키워드와 if키워드를 몇번이고 반복할 수 있음\n",
    "\n",
    "# 1부터 2까지 순차적으로 x에 대입하고,\n",
    "# 1부터 2까지 순차적으로 y에 대입하여 (x,y)를 리스트에 추가\n",
    "# 앞의 for문이 먼저 실행되고, 뒤의 for문이 실행됨\n",
    "nums_pairs = [(x,y) for x in range(1,3) for y in ['a', 'b', 'c']]\n",
    "print(f'{nums_pairs = }')"
   ]
  },
  {
   "cell_type": "code",
   "execution_count": 15,
   "id": "dda08cdf",
   "metadata": {},
   "outputs": [
    {
     "name": "stdout",
     "output_type": "stream",
     "text": [
      "nums_pairs_sum5 = [(1, 4), (2, 3), (3, 2), (4, 1)]\n"
     ]
    }
   ],
   "source": [
    "# 1부터 5까지 순차적으로 x에 대입하고,\n",
    "# 1부터 5까지 순차적으로 y에 대입하여\n",
    "# x+y가 5이면 (x,y)를 리스트에 추가\n",
    "nums_pairs_sum5 = [(x,y) for x in range(1,6) for y in range(1,6) if x+y==5]\n",
    "print(f'{nums_pairs_sum5 = }')"
   ]
  },
  {
   "cell_type": "code",
   "execution_count": 16,
   "id": "c6179d2a",
   "metadata": {},
   "outputs": [
    {
     "name": "stdout",
     "output_type": "stream",
     "text": [
      "student_for = {1: '김딕션', 2: '김딕션', 3: '김딕션', 4: '김딕션'}\n"
     ]
    }
   ],
   "source": [
    "#딕셔너리 컴프리헨션\n",
    " # 리스트 컴프리헨션과 거의 동일한 방식으로 딕셔너리 컴프리헨션을 사용할 수 있음\n",
    "\n",
    "ids = [1,2,3,4]\n",
    "student_names = ['최용비', '이컴프리', '박헨션', '김딕션']\n",
    "\n",
    "#중첩된 for문으로는 정상적으로 딕셔너리를 생성할 수 없음\n",
    "student_for = {id:name for id in ids for name in student_names}\n",
    "\n",
    "print(f'{student_for = }')"
   ]
  },
  {
   "cell_type": "code",
   "execution_count": 17,
   "id": "95f0cf0a",
   "metadata": {},
   "outputs": [
    {
     "name": "stdout",
     "output_type": "stream",
     "text": [
      "students_enumerate = {0: '최용비', 1: '이컴프리', 2: '박헨션', 3: '김딕션'}\n"
     ]
    }
   ],
   "source": [
    "student_names = ['최용비', '이컴프리', '박헨션', '김딕션']\n",
    "\n",
    "# enumerate() 함수로 인덱스와 값을 동시에 가져옴\n",
    "students_enumerate = {id:name for id, name in enumerate(student_names)}\n",
    "print(f'{students_enumerate = }')"
   ]
  },
  {
   "cell_type": "code",
   "execution_count": 19,
   "id": "39248650",
   "metadata": {},
   "outputs": [
    {
     "name": "stdout",
     "output_type": "stream",
     "text": [
      "students_zip = {1: '최용비', 2: '이컴프리', 3: '박헨션', 4: '김딕션'}\n"
     ]
    }
   ],
   "source": [
    "ids = [1,2,3,4]\n",
    "student_names = ['최용비', '이컴프리', '박헨션', '김딕션']\n",
    "\n",
    "# zip() 함수로 두 리스트를 병렬로 가져옴\n",
    "students_zip = {id:name for id, name in zip(ids, student_names)}\n",
    "print(f'{students_zip = }')"
   ]
  },
  {
   "cell_type": "code",
   "execution_count": 20,
   "id": "9c473a37",
   "metadata": {},
   "outputs": [
    {
     "name": "stdout",
     "output_type": "stream",
     "text": [
      "sum_list = [2, 3, 4, 5, 6, 3, 4, 5, 6, 7, 4, 5, 6, 7, 8, 5, 6, 7, 8, 9, 6, 7, 8, 9, 10]\n",
      "\n",
      "sum_set = {2, 3, 4, 5, 6, 7, 8, 9, 10}\n"
     ]
    }
   ],
   "source": [
    "# Set 컴프리헨션\n",
    " # 리스트 컴프리헨션과 거의 동일한 방식으로 세트 컴프리헨션을 사용할 수 있음\n",
    " # set 기호인  {}를 시용하여 세트 컴프리헨션을 작성\n",
    "\n",
    "# 1부터 5까지 순차적으로 x에 대입하고,\n",
    "# 1부터 5까지 순차적으로 y에 대입하여 x+y에 대한 리스트 생성\n",
    "sum_list = [x+y for x in range(1,6) for y in range(1,6)]\n",
    "\n",
    "# 리스트 출력. 중복된 값이 있음\n",
    "print(f'{sum_list = }\\n')\n",
    "\n",
    "# 1부터 5까지 순차적으로 x에 대입하고,\n",
    "# 1부터 5까지 순차적으로 y에 대입하여 x+y에 대한 set 생성\n",
    "sum_set = {x+y for x in range(1,6) for y in range(1,6)}\n",
    "\n",
    "# set 출력. 중복된 값이 없음\n",
    "print(f'{sum_set = }')"
   ]
  },
  {
   "cell_type": "code",
   "execution_count": null,
   "id": "9f2ba0f5",
   "metadata": {},
   "outputs": [],
   "source": [
    "# tuple 컴프리헨션\n",
    " # 튜플 컴프리헨션은 튜플로 반환되는 것이 아니라 제너레이터로 반환됨\n",
    " # 제너레이터는 이터레이터를 생성해주는 함수\n",
    "    # range() 함수와 같이 매번 다음 값을 생성해주는 함수\n",
    " # 시퀸스 객체를 통째로 메모리에 생성하지 않고, 필요한 시점에 데이터를 생성하므로\n",
    " # 메모리를 효율적으로 사용하기 위해 사용"
   ]
  },
  {
   "cell_type": "code",
   "execution_count": 22,
   "id": "24772520",
   "metadata": {},
   "outputs": [
    {
     "name": "stdout",
     "output_type": "stream",
     "text": [
      "nums_pairs_list = [(1, 'a'), (1, 'b'), (1, 'c'), (2, 'a'), (2, 'b'), (2, 'c')]\n",
      "\n",
      "nums_pairs_tuple = <generator object <genexpr> at 0x000001EEE43F1E00>\n",
      "tuple(nums_pairs_tuple) = ((1, 'a'), (1, 'b'), (1, 'c'), (2, 'a'), (2, 'b'), (2, 'c'))\n",
      "\n",
      "nums_pairs_tuple2 = ((1, 'a'), (1, 'b'), (1, 'c'), (2, 'a'), (2, 'b'), (2, 'c'))\n"
     ]
    }
   ],
   "source": [
    "# 1부터 2까지 순차적으로 x에 대입하고,\n",
    "# 1부터 2낒; 순차적으로 y에 대입하여 (x,y)를 리스트에 추가\n",
    "# 앞의 for문이 먼저 실행되고, 뒤의 for문이 실행됨\n",
    "nums_pairs_list = [(x,y) for x in range(1,3) for y in ['a','b','c']]\n",
    "\n",
    "# 리스트 출력\n",
    "print(f'{nums_pairs_list = }\\n')\n",
    "\n",
    "# tuple로 컴프리헨션 적용\n",
    "nums_pairs_tuple = ((x,y) for x in range(1,3) for y in ['a','b','c'])\n",
    "\n",
    "# 제너레이터 객체가 생성됨\n",
    "print(f'{nums_pairs_tuple = }')\n",
    "\n",
    "# 튜플로 변환\n",
    "print(f'{tuple(nums_pairs_tuple) = }\\n')\n",
    "\n",
    "# 한번에 튜플로 컴프리헨션 적용\n",
    "nums_pairs_tuple2 = tuple((x,y) for x in range(1,3) for y in ['a', 'b', 'c'])\n",
    "print(f'{nums_pairs_tuple2 = }')"
   ]
  },
  {
   "cell_type": "code",
   "execution_count": null,
   "id": "8516a7ad",
   "metadata": {},
   "outputs": [],
   "source": [
    "# ---응용 파트 시작---"
   ]
  },
  {
   "cell_type": "code",
   "execution_count": 1,
   "id": "310d21d4",
   "metadata": {},
   "outputs": [
    {
     "name": "stdout",
     "output_type": "stream",
     "text": [
      "long_words = ['apple', 'banana', 'elephant', 'tiger']\n"
     ]
    }
   ],
   "source": [
    "# 응용 1: 문자열 리스트에서 길이가 5 이상인 문자열만 추출하는 리스트 컴프리헨션\n",
    "words = [\"apple\", \"banana\", \"cat\", \"elephant\", \"dog\", \"tiger\"]\n",
    "long_words = [word for word in words if len(word) >= 5]\n",
    "\n",
    "print(f'{long_words = }')  # 길이가 5 이상인 단어만 추출\n"
   ]
  },
  {
   "cell_type": "code",
   "execution_count": 2,
   "id": "ed209bd4",
   "metadata": {},
   "outputs": [
    {
     "name": "stdout",
     "output_type": "stream",
     "text": [
      "even_squares = [4, 16, 36, 64, 100, 144, 196, 256, 324, 400]\n"
     ]
    }
   ],
   "source": [
    "# 응용 2: 1부터 20까지 수 중 짝수의 제곱을 리스트로 생성\n",
    "even_squares = [n**2 for n in range(1, 21) if n % 2 == 0]\n",
    "\n",
    "print(f'{even_squares = }')  # 짝수만 제곱해서 리스트로 출력"
   ]
  },
  {
   "cell_type": "code",
   "execution_count": 3,
   "id": "f9cdeca0",
   "metadata": {},
   "outputs": [
    {
     "name": "stdout",
     "output_type": "stream",
     "text": [
      "word_lengths = {'apple': 5, 'banana': 6, 'cat': 3, 'elephant': 8, 'dog': 3, 'tiger': 5}\n"
     ]
    }
   ],
   "source": [
    "# 응용 3: 문자열 리스트에서 각 단어와 그 길이를 딕셔너리로 매핑\n",
    "word_lengths = {word: len(word) for word in words}\n",
    "print(f'{word_lengths = }') "
   ]
  },
  {
   "cell_type": "code",
   "execution_count": null,
   "id": "83867d35",
   "metadata": {},
   "outputs": [
    {
     "name": "stdout",
     "output_type": "stream",
     "text": [
      "unique_lengths = {8, 3, 5, 6}\n"
     ]
    }
   ],
   "source": [
    "# 응용 4: 단어의 길이를 중복 없이 모은 세트 컴프리헨션\n",
    "unique_lengths = {len(word) for word in words}\n",
    "print(f'{unique_lengths = }') "
   ]
  },
  {
   "cell_type": "code",
   "execution_count": null,
   "id": "754b2483",
   "metadata": {},
   "outputs": [
    {
     "name": "stdout",
     "output_type": "stream",
     "text": [
      "large_products = [(1, 20), (4, 5)]\n"
     ]
    }
   ],
   "source": [
    "# 응용 5: 튜플 쌍 중 두 수의 곱이 20 이상인 쌍만 추출\n",
    "pairs = [(1, 20), (2, 3), (4, 5), (10, 1), (3, 3)]\n",
    "large_products = [pair for pair in pairs if pair[0] * pair[1] >= 20]\n",
    "print(f'{large_products = }') "
   ]
  }
 ],
 "metadata": {
  "kernelspec": {
   "display_name": "base",
   "language": "python",
   "name": "python3"
  },
  "language_info": {
   "codemirror_mode": {
    "name": "ipython",
    "version": 3
   },
   "file_extension": ".py",
   "mimetype": "text/x-python",
   "name": "python",
   "nbconvert_exporter": "python",
   "pygments_lexer": "ipython3",
   "version": "3.12.10"
  }
 },
 "nbformat": 4,
 "nbformat_minor": 5
}
