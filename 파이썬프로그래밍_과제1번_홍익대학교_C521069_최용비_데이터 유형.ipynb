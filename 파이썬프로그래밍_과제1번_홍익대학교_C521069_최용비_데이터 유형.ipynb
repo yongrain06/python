{
 "cells": [
  {
   "cell_type": "code",
   "execution_count": 1,
   "id": "2554c122",
   "metadata": {},
   "outputs": [],
   "source": [
    "#산업·데이터공학과 C521069 최용비 과제 1번 - 데이터 유형"
   ]
  },
  {
   "cell_type": "code",
   "execution_count": 2,
   "id": "006e1f09",
   "metadata": {},
   "outputs": [],
   "source": [
    "#데이터 유형의 종류\n",
    "## 1. 숫자(number): 수치형 데이터, 정수형(int), 실수형(float), 복소수형(complex) - 123, 123.45, 123+45j\n",
    "## 2. 문자열(string): 문자 또는 문자의 집합, 단일 따옴표(') 또는 이중 따옴표(\")로 묶음 --- ex) 'abc', \"abc\"\n",
    "## 3. 리스트(list): 다양한 타입의 데이터 목록 --- ex) ['abc, 123]\n",
    "## 4. 튜플(tuple): 다양한 타입의 데이터 목록, 리스트와 유사하지만 원소의 변경이 불가능함 --- ex) ('abc', 123)\n",
    "## 5. 딕셔너리(dictionary): 키(key)와 값(value)의 쌍으로 이루어진 데이터, 중괄호({})로 묶음 --- ex) {'이름':'최용비', '학번':'C521069', 'id':1234}\n",
    "## 6. 집합(set): 중복되지 않는 데이터의 집합, 중괄호({})로 묶음 --- ex) {1, 2, 3, 4, 5}\n",
    "## 7. 불린(boolean): 참(True)과 거짓(False)으로 이루어진 데이터 --- ex) True, False\n",
    "## 8. None: 아무것도 없는 데이터 --- ex) None"
   ]
  },
  {
   "cell_type": "code",
   "execution_count": 3,
   "id": "10791346",
   "metadata": {},
   "outputs": [
    {
     "name": "stdout",
     "output_type": "stream",
     "text": [
      "x_value = 12345\n",
      "type(x_value) = <class 'int'>\n"
     ]
    }
   ],
   "source": [
    "#데이터 유형의 확인\n",
    "\n",
    "## 1. x_value에 정수 12345를 할당\n",
    "x_value = 12345\n",
    "\n",
    "## 2. x_value의 값과 자료형을 출력\n",
    "print(f'{x_value = }\\n{type(x_value) = }')\n",
    "\n",
    "    ### x_value의 유형은 클래스(class)'int'임. 즉, 객체(object)임."
   ]
  },
  {
   "cell_type": "code",
   "execution_count": 4,
   "id": "a6e7810b",
   "metadata": {},
   "outputs": [
    {
     "name": "stdout",
     "output_type": "stream",
     "text": [
      "x_str = 'abcde'\n",
      "type(x_str) = <class 'str'>\n"
     ]
    }
   ],
   "source": [
    "## 1. x_str에 문자열 'abcde'를 할당\n",
    "x_str = 'abcde'\n",
    "\n",
    "## 2. x_str의 값과 자료형을 출력\n",
    "print(f'{x_str = }\\n{type(x_str) = }')"
   ]
  },
  {
   "cell_type": "code",
   "execution_count": 5,
   "id": "5110ceaf",
   "metadata": {},
   "outputs": [
    {
     "name": "stdout",
     "output_type": "stream",
     "text": [
      "x_list = ['abcde', 12345]\n",
      "type(x_list) = <class 'list'>\n"
     ]
    }
   ],
   "source": [
    "## 1. x_list에 x_str과 x_value를 원소로 갖는 리스트를 할당\n",
    "x_list = [x_str, x_value]\n",
    "\n",
    "## 2. x_list의 값과 자료형을 출력\n",
    "print(f'{x_list = }\\n{type(x_list) = }')"
   ]
  },
  {
   "cell_type": "code",
   "execution_count": 6,
   "id": "8bc1022b",
   "metadata": {},
   "outputs": [
    {
     "name": "stdout",
     "output_type": "stream",
     "text": [
      "x_tuple = ('abcde', 12345)\n",
      "type(x_tuple) = <class 'tuple'>\n"
     ]
    }
   ],
   "source": [
    "## 1. x_tuple에 x_str과 x_value를 원소로 갖는 튜플을 할당\n",
    "x_tuple = (x_str, x_value)\n",
    "\n",
    "## 2. x_tuple의 값과 자료형을 출력\n",
    "print(f'{x_tuple = }\\n{type(x_tuple) = }')"
   ]
  },
  {
   "cell_type": "code",
   "execution_count": 7,
   "id": "7f356f3b",
   "metadata": {},
   "outputs": [
    {
     "name": "stdout",
     "output_type": "stream",
     "text": [
      "x_dict = {'이름': '최용비', '학번': 'C521069', 'id': 1234}\n",
      "type(x_dict) = <class 'dict'>\n"
     ]
    }
   ],
   "source": [
    "## 1. x_dict에 key가 '이름'과 '학번'과 'id' 이고 value가 '최용비'와 'C521069'와 1234인 딕셔너리를 할당\n",
    "x_dict = {'이름': '최용비', '학번': 'C521069', 'id': 1234}\n",
    "\n",
    "## 2. x_dict의 값과 자료형을 출력\n",
    "print(f'{x_dict = }\\n{type(x_dict) = }')"
   ]
  },
  {
   "cell_type": "code",
   "execution_count": 8,
   "id": "33f3ffa7",
   "metadata": {},
   "outputs": [
    {
     "name": "stdout",
     "output_type": "stream",
     "text": [
      "x_none = None\n",
      "type(x_none) = <class 'NoneType'>\n"
     ]
    }
   ],
   "source": [
    "## 1. x_none에 None을 할당\n",
    "x_none = None\n",
    "\n",
    "## 2. x_none의 값과 자료형을 출력\n",
    "print(f'{x_none = }\\n{type(x_none) = }')"
   ]
  },
  {
   "cell_type": "code",
   "execution_count": 9,
   "id": "f3a3ba0b",
   "metadata": {},
   "outputs": [],
   "source": [
    "#객체, 인스턴스, 클래스\n",
    "    ## 객체(object): 실제로 존재하는 것. 책상, 의자, 자동차와 같은 사물들이 곧 객체임.\n",
    "    ## 인스턴스(instance): 클래스로부터 만들어진 객체를 그 클래스의 인스턴스라고 함.\n",
    "    ## 클래스(class): 객체를 만들기 위한 틀. 객체를 만들기 위한 설계도와 같은 것임."
   ]
  },
  {
   "cell_type": "code",
   "execution_count": 10,
   "id": "decd147e",
   "metadata": {},
   "outputs": [
    {
     "name": "stdout",
     "output_type": "stream",
     "text": [
      "dir(x_value) = ['__abs__', '__add__', '__and__', '__bool__', '__ceil__', '__class__', '__delattr__', '__dir__', '__divmod__', '__doc__', '__eq__', '__float__', '__floor__', '__floordiv__', '__format__', '__ge__', '__getattribute__', '__getnewargs__', '__getstate__', '__gt__', '__hash__', '__index__', '__init__', '__init_subclass__', '__int__', '__invert__', '__le__', '__lshift__', '__lt__', '__mod__', '__mul__', '__ne__', '__neg__', '__new__', '__or__', '__pos__', '__pow__', '__radd__', '__rand__', '__rdivmod__', '__reduce__', '__reduce_ex__', '__repr__', '__rfloordiv__', '__rlshift__', '__rmod__', '__rmul__', '__ror__', '__round__', '__rpow__', '__rrshift__', '__rshift__', '__rsub__', '__rtruediv__', '__rxor__', '__setattr__', '__sizeof__', '__str__', '__sub__', '__subclasshook__', '__truediv__', '__trunc__', '__xor__', 'as_integer_ratio', 'bit_count', 'bit_length', 'conjugate', 'denominator', 'from_bytes', 'imag', 'is_integer', 'numerator', 'real', 'to_bytes']\n"
     ]
    }
   ],
   "source": [
    "#객체의 속성과 메소드 확인 방법\n",
    "\n",
    "## 1. x_value의 속성과 메소드를 출력\n",
    "print(f'{dir(x_value) = }')"
   ]
  },
  {
   "cell_type": "code",
   "execution_count": 11,
   "id": "4993f792",
   "metadata": {},
   "outputs": [
    {
     "name": "stdout",
     "output_type": "stream",
     "text": [
      "x_value.real = 12345\n",
      "x_value.bit_length() = 14\n"
     ]
    }
   ],
   "source": [
    "## 2. x_value의 실수부(속성)를 출력\n",
    "print(f'{x_value.real = }')\n",
    "\n",
    "## 3. x_value의 비트 수를 계산(메서드)를 출력\n",
    "print(f'{x_value.bit_length() = }')"
   ]
  },
  {
   "cell_type": "code",
   "execution_count": 12,
   "id": "3b3b8a3d",
   "metadata": {},
   "outputs": [],
   "source": [
    "#mutable과 immutable\n",
    "    ## 1. mutable: 원소의 수정이 가능한 자료형 --- ex) 리스트(list), 딕셔너리(dictionary)\n",
    "    ## 2. immutable: 원소의 수정이 불가능한 자료형 --- ex) 문자열(string), 튜플(tuple)"
   ]
  },
  {
   "cell_type": "code",
   "execution_count": 13,
   "id": "7ed6152d",
   "metadata": {},
   "outputs": [
    {
     "name": "stdout",
     "output_type": "stream",
     "text": [
      "Before: x_list = ['abcde', 12345]\n",
      "After: x_list = ['abcde', 'fghij']\n"
     ]
    }
   ],
   "source": [
    "#mutable: 리스트(list)\n",
    "x_list = ['abcde', 12345]\n",
    "\n",
    "## 1. 원소 변경전 x_list의 값을 출력\n",
    "print(f'Before: {x_list = }')\n",
    "\n",
    "## 2. 인덱스 1 원소를 'fghij'로 변경\n",
    "x_list[1] = 'fghij'\n",
    "\n",
    "## 3. 원소 변경 후 x_list의 값을 출력\n",
    "print(f'After: {x_list = }')"
   ]
  },
  {
   "cell_type": "code",
   "execution_count": 14,
   "id": "3c5abac8",
   "metadata": {},
   "outputs": [
    {
     "name": "stdout",
     "output_type": "stream",
     "text": [
      "Before: x_dict = {'이름': '최용비', '학번': 'C521069', 'id': 1234}\n",
      "After: x_dict = {'이름': 'ChoiYonbBi', '학번': 'C521069', 'id': 1234}\n"
     ]
    }
   ],
   "source": [
    "#mutable-2: 딕셔너리(dictionary)\n",
    "x_dict = {'이름': '최용비', '학번': 'C521069', 'id': 1234}\n",
    "\n",
    "## 1. 원소 변경전 x_dict의 값을 출력\n",
    "print(f'Before: {x_dict = }')\n",
    "\n",
    "## 2. '이름'의 값을 'ChoiYongBi'로 변경\n",
    "x_dict['이름'] = 'ChoiYonbBi'\n",
    "\n",
    "## 3. 원소 변경 후 x_dict의 값을 출력\n",
    "print(f'After: {x_dict = }')"
   ]
  },
  {
   "cell_type": "code",
   "execution_count": 15,
   "id": "2e5240d5",
   "metadata": {},
   "outputs": [
    {
     "name": "stdout",
     "output_type": "stream",
     "text": [
      "Before: x_str = 'abcde'\n",
      "Error: 'str' object does not support item assignment\n",
      "After: x_str = 'abcde'\n"
     ]
    }
   ],
   "source": [
    "#immutable: 문자열(str) -> 원소 바꾸기 불가\n",
    "    ## +) try~except 구문: 예외처리 구문으로, 오류가 발생할 경우 except 블록의 코드를 실행함.\n",
    "x_str = 'abcde'\n",
    "\n",
    "## 1. 원소 변경전 x_str의 값을 출력\n",
    "print(f'Before: {x_str = }')\n",
    "\n",
    "## 2. try블록 안의 코드를 실행하다가 에러가 발생하면 except 블록의 코드를 실행\n",
    "try:\n",
    "    x_str[1] = '2'#--> 인덱스 1 원소를 '2'로 변경. 문자열은 immutable 자료형이므로 에러 발생\n",
    "except TypeError as e:#--> 에러 발생시 에러 메세지를 e에 할당\n",
    "    print(f'Error: {e}')#--> 에러 메세지 출력\n",
    "\n",
    "## 3. 원소 변경 후 x_str의 값을 출력\n",
    "print(f'After: {x_str = }')"
   ]
  },
  {
   "cell_type": "code",
   "execution_count": 16,
   "id": "863bbdc8",
   "metadata": {},
   "outputs": [
    {
     "name": "stdout",
     "output_type": "stream",
     "text": [
      "Before : x_tuple = ('abcde', 12345)\n",
      "Error : 'tuple' object does not support item assignment\n",
      "After : x_tuple = ('abcde', 12345)\n"
     ]
    }
   ],
   "source": [
    "#immutable-2: 튜플(tuple) -> 원소 바꾸기 불가\n",
    "x_tuple = ('abcde', 12345)\n",
    "\n",
    "## 1. 원소 변경전 x_tuple의 값을 출력\n",
    "print(f'Before : {x_tuple = }')\n",
    "\n",
    "## 2. try 블록 안의 코드를 실행하다가 에러가 발생하면 except 블록의 코드를 실행\n",
    "try:\n",
    "    x_tuple[1] ='fghij'#--> 인덱스 1 원소를 'fghij'로 변경. 튜플은 immutable 자료형이므로 에러 발생\n",
    "except TypeError as e:\n",
    "    print(f'Error : {e}')\n",
    "\n",
    "## 3. 원소 변경 후 x_tuple의 값을 출력\n",
    "print(f'After : {x_tuple = }')"
   ]
  },
  {
   "cell_type": "code",
   "execution_count": 17,
   "id": "683051fe",
   "metadata": {},
   "outputs": [],
   "source": [
    "#자료형 변환 - 데이터의 유형을 변경하는 것\n",
    "\n",
    "## 단일 자료형 변환 함수\n",
    "### 1. int() : 정수형으로 변환\n",
    "### 2. float() : 실수형으로 변환\n",
    "### 3. str() : 문자열로 변환"
   ]
  },
  {
   "cell_type": "code",
   "execution_count": 18,
   "id": "7f306468",
   "metadata": {},
   "outputs": [
    {
     "name": "stdout",
     "output_type": "stream",
     "text": [
      "12345는 <class 'int'>\n",
      "------------------------------\n",
      "12345.0는 <class 'float'>\n",
      "------------------------------\n",
      "12345는 <class 'str'>\n",
      "------------------------------\n",
      "True는 <class 'bool'>\n"
     ]
    }
   ],
   "source": [
    "## 1. var_x에 정수 12345를 할당\n",
    "var_x = 12345\n",
    "\n",
    "## 2. var_x의 값과 자료형을 출력\n",
    "    ##마지막(end=)에 줄바꿈('\\n')과 구분선('-' 30개) 그리고 줄바꿈('\\n')을 추가\n",
    "print(f'{var_x}는 {type(var_x)}', end='\\n'+'-'*30+'\\n') \n",
    "\n",
    "## 3. var_x의 값을 실수형으로 변환하여 var_y에 할당\n",
    "var_y = float(var_x)\n",
    "\n",
    "## 4. var_y의 값과 자료형을 출력\n",
    "print(f'{var_y}는 {type(var_y)}', end='\\n'+'-'*30+'\\n')\n",
    "\n",
    "## 5. var_x의 값을 문자열로 변환하여 var_y에 할당\n",
    "var_y = str(var_x)\n",
    "\n",
    "## 6. var_y의 값과 자료형을 출력\n",
    "print(f'{var_y}는 {type(var_y)}', end='\\n'+'-'*30+'\\n')\n",
    "\n",
    "## 7. var_x의 값을 불리언으로 변환하여 var_y에 할당\n",
    "    ###정수 12345는 0이아니므로 True\n",
    "var_y = bool(var_x)\n",
    "\n",
    "## 8. var_y의 값과 자료형을 출력\n",
    "print(f'{var_y}는 {type(var_y)}')"
   ]
  },
  {
   "cell_type": "code",
   "execution_count": 19,
   "id": "ed5af478",
   "metadata": {},
   "outputs": [],
   "source": [
    "# iterable 자료형 변환 함수\n",
    " ## list() : 리스트로 변환\n",
    " ## tuple() : 튜플로 변환\n",
    " ## dict() : 딕셔너리로 변환\n",
    " ## set() : 집합으로 변환\n",
    "\n",
    "## iterable 자료형은 반복 가능한 자료형을 의미\n",
    "    ### 리스트, 튜플, 딕셔너리, 집합 등\n",
    "    ### 문자열(str)은 문자의 배열이므로 iterable 자료형\n",
    "\n",
    "# range() 함수\n",
    " ## range() 함수는 연속된 정수를 생성하는 함수로서 iterable 자료형을 반환\n",
    "    ### range(시작, 끝, 증가폭)\n",
    "    ### 시작은 포함, 끝은 미포함\n",
    "    ### 증가폭은 생략 가능하며, 생략시 1로 설정"
   ]
  },
  {
   "cell_type": "code",
   "execution_count": 20,
   "id": "059c8af6",
   "metadata": {},
   "outputs": [
    {
     "name": "stdout",
     "output_type": "stream",
     "text": [
      "range(-10, 0, 2)는 <class 'range'>\n",
      "------------------------------\n",
      "[-10, -8, -6, -4, -2]는 <class 'list'>\n",
      "------------------------------\n",
      "(-10, -8, -6, -4, -2)는 <class 'tuple'>\n",
      "------------------------------\n",
      "{-10, -8, -6, -4, -2}는 <class 'set'>\n"
     ]
    }
   ],
   "source": [
    "## 1. var_x에 -10부터 0 전까지 2씩 증가하는 range 객체를 할당\n",
    "var_x = range(-10, 0, 2)\n",
    "\n",
    "## 2. var_x의 값과 자료형을 출력\n",
    "print(f'{var_x}는 {type(var_x)}', end='\\n'+'-'*30+'\\n')\n",
    "\n",
    "## 3. var_y에 var_x의 값을 리스트로 변환하여 할당\n",
    "var_y = list(var_x)\n",
    "\n",
    "## 4. var_y의 값과 자료형을 출력\n",
    "print(f'{var_y}는 {type(var_y)}',end='\\n'+'-'*30+'\\n')\n",
    "\n",
    "## 5. var_y에 var_x를 튜플로 변환하여 할당\n",
    "var_y = tuple(var_x)\n",
    "\n",
    "## 6. var_y의 값과 자료형을 출력\n",
    "print(f'{var_y}는 {type(var_y)}',end='\\n'+'-'*30+'\\n')\n",
    "\n",
    "## 7. var_y에 var_x의 값을 집합으로 변환하여 할당\n",
    "var_y = set(var_x)\n",
    "\n",
    "## 8.var_y의 값과 자료형을 출력\n",
    "print(f'{var_y}는 {type(var_y)}')"
   ]
  },
  {
   "cell_type": "code",
   "execution_count": 21,
   "id": "3ee0c8e6",
   "metadata": {},
   "outputs": [
    {
     "name": "stdout",
     "output_type": "stream",
     "text": [
      "choiyongbi는 <class 'str'>\n",
      "------------------------------\n",
      "['c', 'h', 'o', 'i', 'y', 'o', 'n', 'g', 'b', 'i']는 <class 'list'>\n",
      "------------------------------\n",
      "('c', 'h', 'o', 'i', 'y', 'o', 'n', 'g', 'b', 'i')는 <class 'tuple'>\n",
      "------------------------------\n",
      "{'b', 'c', 'h', 'y', 'o', 'n', 'g', 'i'}는 <class 'set'>\n"
     ]
    }
   ],
   "source": [
    "## 1. var_x에 문자열 'choiyongbi'를 할당. 문자열은 iterable 자료형임\n",
    "var_x = 'choiyongbi'\n",
    "\n",
    "## 2. var_x의 값과 자료형을 출력\n",
    "print(f'{var_x}는 {type(var_x)}', end='\\n'+'-'*30+'\\n')\n",
    "\n",
    "## 3. var_y에 var_x의 값을 리스트로 변환하여 할당\n",
    "var_y = list(var_x)\n",
    "print(f'{var_y}는 {type(var_y)}', end='\\n'+'-'*30+'\\n')\n",
    "\n",
    "## 4. var_y에 var_x의 값을 튜플로 변환하여 할당\n",
    "var_y = tuple(var_x)\n",
    "print(f'{var_y}는 {type(var_y)}', end='\\n'+'-'*30+'\\n')\n",
    "\n",
    "## 5. var_y에 var_x의 값을 집합으로 변환하여 할당\n",
    "    ### 집합은 중복을 허용하지 않으므로 'choiyngb'만 남음\n",
    "var_y = set(var_x)\n",
    "print(f'{var_y}는 {type(var_y)}')"
   ]
  },
  {
   "cell_type": "code",
   "execution_count": null,
   "id": "8ad525dc",
   "metadata": {},
   "outputs": [
    {
     "name": "stdout",
     "output_type": "stream",
     "text": [
      "\n",
      "[학생 정보]\n",
      "이름: 최용비\n",
      "학번: C521069\n",
      "나이: 20세\n",
      "자료형: <class 'dict'>\n"
     ]
    }
   ],
   "source": [
    "# 1. 정보 딕셔너리 만들기\n",
    "\n",
    "user_info = {\n",
    "    \"이름\": input(\"이름을 입력하세요: \"),\n",
    "    \"학번\": input(\"학번을 입력하세요: \"),\n",
    "    \"나이\": int(input(\"나이를 입력하세요: \"))\n",
    "}\n",
    "\n",
    "print(f\"\\n[학생 정보]\\n이름: {user_info['이름']}\\n학번: {user_info['학번']}\\n나이: {user_info['나이']}세\")\n",
    "print(f\"자료형: {type(user_info)}\")\n"
   ]
  },
  {
   "cell_type": "code",
   "execution_count": 3,
   "id": "544c3b2e",
   "metadata": {},
   "outputs": [
    {
     "name": "stdout",
     "output_type": "stream",
     "text": [
      "중복 제거된 과목 목록: {'영어', '수학', '과학'}\n",
      "자료형: <class 'set'>\n"
     ]
    }
   ],
   "source": [
    "# 2. 중복 제거한 과목 목록 집합 만들기\n",
    "\n",
    "subjects = [\"수학\", \"영어\", \"수학\", \"과학\", \"영어\"]\n",
    "unique_subjects = set(subjects)\n",
    "\n",
    "print(f\"중복 제거된 과목 목록: {unique_subjects}\")\n",
    "print(f\"자료형: {type(unique_subjects)}\")"
   ]
  },
  {
   "cell_type": "code",
   "execution_count": 4,
   "id": "1c7f01c0",
   "metadata": {},
   "outputs": [
    {
     "name": "stdout",
     "output_type": "stream",
     "text": [
      "내가 수강한 과목: ('파이썬', '대학물리1', '대학화학1')\n",
      "자료형: <class 'tuple'>\n"
     ]
    }
   ],
   "source": [
    "# 3. 수강 과목을 튜플로 고정 저장하기\n",
    "\n",
    "course_tuple = (\"파이썬\", \"대학물리1\", \"대학화학1\")\n",
    "print(\"내가 수강한 과목:\", course_tuple)\n",
    "print(f\"자료형: {type(course_tuple)}\")"
   ]
  },
  {
   "cell_type": "code",
   "execution_count": 5,
   "id": "0f3f9d16",
   "metadata": {},
   "outputs": [
    {
     "name": "stdout",
     "output_type": "stream",
     "text": [
      "리스트로 변환: ['b', 'a', 'n', 'a', 'n', 'a']\n",
      "집합으로 변환 (중복 제거): {'b', 'n', 'a'}\n"
     ]
    }
   ],
   "source": [
    "# 4. 문자열을 리스트와 집합으로 변환해보기\n",
    "\n",
    "text = \"banana\"\n",
    "char_list = list(text)\n",
    "char_set = set(text)\n",
    "\n",
    "print(f\"리스트로 변환: {char_list}\")\n",
    "print(f\"집합으로 변환 (중복 제거): {char_set}\")"
   ]
  },
  {
   "cell_type": "code",
   "execution_count": 6,
   "id": "4c73aaa9",
   "metadata": {},
   "outputs": [
    {
     "name": "stdout",
     "output_type": "stream",
     "text": [
      "2025.0 <class 'float'>\n",
      "2025 <class 'str'>\n",
      "True <class 'bool'>\n"
     ]
    }
   ],
   "source": [
    "# 5. 정수에서 실수, 문자열, 불린으로 자료형 변환하기\n",
    "\n",
    "num = 2025\n",
    "\n",
    "print(float(num), type(float(num)))     # 실수형\n",
    "print(str(num), type(str(num)))         # 문자열\n",
    "print(bool(num), type(bool(num)))       # 불리언(True)"
   ]
  },
  {
   "cell_type": "code",
   "execution_count": 20,
   "id": "e880acc8",
   "metadata": {},
   "outputs": [
    {
     "name": "stdout",
     "output_type": "stream",
     "text": [
      "[99, 2, 3]\n",
      "튜플은 변경 불가: 'tuple' object does not support item assignment\n"
     ]
    }
   ],
   "source": [
    "# 6. mutable vs immutable 직접 비교하기\n",
    "\n",
    "# 리스트는 mutable\n",
    "a_list = [1, 2, 3]\n",
    "a_list[0] = 99\n",
    "print(a_list)\n",
    "\n",
    "# 튜플은 immutable (변경 시도 시 오류 발생)\n",
    "a_tuple = (1, 2, 3)\n",
    "try:\n",
    "    a_tuple[0] = 99\n",
    "except TypeError as e:\n",
    "    print(f\"튜플은 변경 불가: {e}\")"
   ]
  }
 ],
 "metadata": {
  "kernelspec": {
   "display_name": "base",
   "language": "python",
   "name": "python3"
  },
  "language_info": {
   "codemirror_mode": {
    "name": "ipython",
    "version": 3
   },
   "file_extension": ".py",
   "mimetype": "text/x-python",
   "name": "python",
   "nbconvert_exporter": "python",
   "pygments_lexer": "ipython3",
   "version": "3.12.9"
  }
 },
 "nbformat": 4,
 "nbformat_minor": 5
}
