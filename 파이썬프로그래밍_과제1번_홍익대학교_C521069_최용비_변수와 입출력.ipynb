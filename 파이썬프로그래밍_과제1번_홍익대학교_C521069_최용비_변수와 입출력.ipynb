{
 "cells": [
  {
   "cell_type": "code",
   "execution_count": 1,
   "id": "13f67784",
   "metadata": {},
   "outputs": [],
   "source": [
    "#산업·데이터공학과 C521069 최용비 과제1번 - 변수와 입출력"
   ]
  },
  {
   "cell_type": "code",
   "execution_count": 2,
   "id": "4dc2ab73",
   "metadata": {},
   "outputs": [],
   "source": [
    "# 변수와 식별자\n",
    " ## 변수 : 변수는 값을 저장하는 공간, 실제로는 객체(데이터, 함수, 클래스 등)을 가리키는 메모리 주소를 저장\n",
    "\n",
    " ## 식별자 : 변수, 함수, 클래스 등의 이름이며, 이들은 식별자를 통해 접근"
   ]
  },
  {
   "cell_type": "code",
   "execution_count": 3,
   "id": "f339189d",
   "metadata": {},
   "outputs": [
    {
     "name": "stdout",
     "output_type": "stream",
     "text": [
      "산업·데이터공학\n",
      "2121035296368\n"
     ]
    }
   ],
   "source": [
    "#변수의 생성\n",
    "\n",
    "## 1. 변수 var_x에 문자열 데이터 '산업·데이터공학'을 저장\n",
    "var_x = '산업·데이터공학'\n",
    "\n",
    "## 2. 변수 var_x에 저장된 데이터를 출력\n",
    "print(var_x)\n",
    "\n",
    "## 3. 변수 var_x의 메모리 주소를 출력\n",
    "print(id(var_x))"
   ]
  },
  {
   "cell_type": "code",
   "execution_count": 4,
   "id": "2c68a4bb",
   "metadata": {},
   "outputs": [
    {
     "name": "stdout",
     "output_type": "stream",
     "text": [
      "산업·데이터공학과\n",
      "2121036802256\n"
     ]
    }
   ],
   "source": [
    "## 변수 var_x를 문자열 데이터 '산업·데이터공학과'로 수정\n",
    "var_x = '산업·데이터공학과'\n",
    "\n",
    "print(var_x)\n",
    "print(id(var_x))"
   ]
  },
  {
   "cell_type": "code",
   "execution_count": 5,
   "id": "fd7e6b9b",
   "metadata": {},
   "outputs": [],
   "source": [
    "### 이전과 다른 메모리 주소가 출력됨. 수정된 것으로 보이지만 실제로는 새로운 데이터의 주소로 변경된 것임."
   ]
  },
  {
   "cell_type": "code",
   "execution_count": 6,
   "id": "feed376a",
   "metadata": {},
   "outputs": [
    {
     "name": "stdout",
     "output_type": "stream",
     "text": [
      "산업·데이터공학과\n",
      "2121035296368\n"
     ]
    }
   ],
   "source": [
    "## 변수 var_y에 문자열 데이터 '산업·데이터공학과'를 저장\n",
    "var_y = '산업·데이터공학과'\n",
    "\n",
    "print(var_y)\n",
    "print(id(var_y))"
   ]
  },
  {
   "cell_type": "code",
   "execution_count": 7,
   "id": "85021c1c",
   "metadata": {},
   "outputs": [],
   "source": [
    "### 변수 var_x와 동일한 데이터를 저장했지만, 다른 메모리 주소가 출력됨."
   ]
  },
  {
   "cell_type": "code",
   "execution_count": 8,
   "id": "b40243ca",
   "metadata": {},
   "outputs": [
    {
     "data": {
      "application/json": {
       "cell": {
        "!": "OSMagics",
        "HTML": "Other",
        "SVG": "Other",
        "bash": "Other",
        "capture": "ExecutionMagics",
        "cmd": "Other",
        "code_wrap": "ExecutionMagics",
        "debug": "ExecutionMagics",
        "file": "Other",
        "html": "DisplayMagics",
        "javascript": "DisplayMagics",
        "js": "DisplayMagics",
        "latex": "DisplayMagics",
        "markdown": "DisplayMagics",
        "perl": "Other",
        "prun": "ExecutionMagics",
        "pypy": "Other",
        "python": "Other",
        "python2": "Other",
        "python3": "Other",
        "ruby": "Other",
        "script": "ScriptMagics",
        "sh": "Other",
        "svg": "DisplayMagics",
        "sx": "OSMagics",
        "system": "OSMagics",
        "time": "ExecutionMagics",
        "timeit": "ExecutionMagics",
        "writefile": "OSMagics"
       },
       "line": {
        "alias": "OSMagics",
        "alias_magic": "BasicMagics",
        "autoawait": "AsyncMagics",
        "autocall": "AutoMagics",
        "automagic": "AutoMagics",
        "autosave": "KernelMagics",
        "bookmark": "OSMagics",
        "cd": "OSMagics",
        "clear": "KernelMagics",
        "cls": "KernelMagics",
        "code_wrap": "ExecutionMagics",
        "colors": "BasicMagics",
        "conda": "PackagingMagics",
        "config": "ConfigMagics",
        "connect_info": "KernelMagics",
        "copy": "Other",
        "ddir": "Other",
        "debug": "ExecutionMagics",
        "dhist": "OSMagics",
        "dirs": "OSMagics",
        "doctest_mode": "BasicMagics",
        "echo": "Other",
        "ed": "Other",
        "edit": "KernelMagics",
        "env": "OSMagics",
        "gui": "BasicMagics",
        "hist": "Other",
        "history": "HistoryMagics",
        "killbgscripts": "ScriptMagics",
        "ldir": "Other",
        "less": "KernelMagics",
        "load": "CodeMagics",
        "load_ext": "ExtensionMagics",
        "loadpy": "CodeMagics",
        "logoff": "LoggingMagics",
        "logon": "LoggingMagics",
        "logstart": "LoggingMagics",
        "logstate": "LoggingMagics",
        "logstop": "LoggingMagics",
        "ls": "Other",
        "lsmagic": "BasicMagics",
        "macro": "ExecutionMagics",
        "magic": "BasicMagics",
        "mamba": "PackagingMagics",
        "matplotlib": "PylabMagics",
        "micromamba": "PackagingMagics",
        "mkdir": "Other",
        "more": "KernelMagics",
        "notebook": "BasicMagics",
        "page": "BasicMagics",
        "pastebin": "CodeMagics",
        "pdb": "ExecutionMagics",
        "pdef": "NamespaceMagics",
        "pdoc": "NamespaceMagics",
        "pfile": "NamespaceMagics",
        "pinfo": "NamespaceMagics",
        "pinfo2": "NamespaceMagics",
        "pip": "PackagingMagics",
        "popd": "OSMagics",
        "pprint": "BasicMagics",
        "precision": "BasicMagics",
        "prun": "ExecutionMagics",
        "psearch": "NamespaceMagics",
        "psource": "NamespaceMagics",
        "pushd": "OSMagics",
        "pwd": "OSMagics",
        "pycat": "OSMagics",
        "pylab": "PylabMagics",
        "qtconsole": "KernelMagics",
        "quickref": "BasicMagics",
        "recall": "HistoryMagics",
        "rehashx": "OSMagics",
        "reload_ext": "ExtensionMagics",
        "ren": "Other",
        "rep": "Other",
        "rerun": "HistoryMagics",
        "reset": "NamespaceMagics",
        "reset_selective": "NamespaceMagics",
        "rmdir": "Other",
        "run": "ExecutionMagics",
        "save": "CodeMagics",
        "sc": "OSMagics",
        "set_env": "OSMagics",
        "store": "StoreMagics",
        "sx": "OSMagics",
        "system": "OSMagics",
        "tb": "ExecutionMagics",
        "time": "ExecutionMagics",
        "timeit": "ExecutionMagics",
        "unalias": "OSMagics",
        "unload_ext": "ExtensionMagics",
        "uv": "PackagingMagics",
        "who": "NamespaceMagics",
        "who_ls": "NamespaceMagics",
        "whos": "NamespaceMagics",
        "xdel": "NamespaceMagics",
        "xmode": "BasicMagics"
       }
      },
      "text/plain": [
       "Available line magics:\n",
       "%alias  %alias_magic  %autoawait  %autocall  %automagic  %autosave  %bookmark  %cd  %clear  %cls  %code_wrap  %colors  %conda  %config  %connect_info  %copy  %ddir  %debug  %dhist  %dirs  %doctest_mode  %echo  %ed  %edit  %env  %gui  %hist  %history  %killbgscripts  %ldir  %less  %load  %load_ext  %loadpy  %logoff  %logon  %logstart  %logstate  %logstop  %ls  %lsmagic  %macro  %magic  %mamba  %matplotlib  %micromamba  %mkdir  %more  %notebook  %page  %pastebin  %pdb  %pdef  %pdoc  %pfile  %pinfo  %pinfo2  %pip  %popd  %pprint  %precision  %prun  %psearch  %psource  %pushd  %pwd  %pycat  %pylab  %qtconsole  %quickref  %recall  %rehashx  %reload_ext  %ren  %rep  %rerun  %reset  %reset_selective  %rmdir  %run  %save  %sc  %set_env  %store  %sx  %system  %tb  %time  %timeit  %unalias  %unload_ext  %uv  %who  %who_ls  %whos  %xdel  %xmode\n",
       "\n",
       "Available cell magics:\n",
       "%%!  %%HTML  %%SVG  %%bash  %%capture  %%cmd  %%code_wrap  %%debug  %%file  %%html  %%javascript  %%js  %%latex  %%markdown  %%perl  %%prun  %%pypy  %%python  %%python2  %%python3  %%ruby  %%script  %%sh  %%svg  %%sx  %%system  %%time  %%timeit  %%writefile\n",
       "\n",
       "Automagic is ON, % prefix IS NOT needed for line magics."
      ]
     },
     "execution_count": 8,
     "metadata": {},
     "output_type": "execute_result"
    }
   ],
   "source": [
    "#현재 사용중인 변수 확인\n",
    "\n",
    "## 매직 명령어 목록 보기\n",
    "%lsmagic"
   ]
  },
  {
   "cell_type": "code",
   "execution_count": 9,
   "id": "27f44d2b",
   "metadata": {},
   "outputs": [
    {
     "data": {
      "text/plain": [
       "'c:\\\\Users\\\\Administrator\\\\Desktop\\\\abcd20250405'"
      ]
     },
     "execution_count": 9,
     "metadata": {},
     "output_type": "execute_result"
    }
   ],
   "source": [
    "## 1. 현재 디렉토리 확인\n",
    "%pwd"
   ]
  },
  {
   "cell_type": "code",
   "execution_count": 10,
   "id": "5ee2e7c1",
   "metadata": {},
   "outputs": [
    {
     "name": "stdout",
     "output_type": "stream",
     "text": [
      " C ����̺��� �������� �̸��� �����ϴ�.\n",
      " ���� �Ϸ� ��ȣ: 2C59-BA5C\n",
      "\n",
      " c:\\Users\\Administrator\\Desktop\\abcd20250405 ���͸�\n",
      "\n",
      "2025-04-08  ���� 01:30    <DIR>          .\n",
      "2025-04-08  ���� 01:30    <DIR>          ..\n",
      "2025-04-08  ���� 01:30            13,221 ���̽����α׷���_����1��_ȫ�ʹ��б�_C521069_�ֿ��_������ ����.ipynb\n",
      "2025-04-08  ���� 01:24            17,490 ���̽����α׷���_����1��_ȫ�ʹ��б�_C521069_�ֿ��_������ ����.ipynb\n",
      "2025-04-08  ���� 01:44            20,747 ���̽����α׷���_����1��_ȫ�ʹ��б�_C521069_�ֿ��_������ �����.ipynb\n",
      "               3�� ����              51,458 ����Ʈ\n",
      "               2�� ���͸�  446,431,723,520 ����Ʈ ����\n"
     ]
    }
   ],
   "source": [
    "## 2. 현재 디렉토리의 파일 목록 확인\n",
    "%ls"
   ]
  },
  {
   "cell_type": "code",
   "execution_count": 11,
   "id": "f52307df",
   "metadata": {},
   "outputs": [
    {
     "name": "stdout",
     "output_type": "stream",
     "text": [
      "var_x\t var_y\t \n"
     ]
    }
   ],
   "source": [
    "## 3. 현재 커널에서 사용중인 변수 목록\n",
    "%who"
   ]
  },
  {
   "cell_type": "code",
   "execution_count": 12,
   "id": "8bad0588",
   "metadata": {},
   "outputs": [
    {
     "name": "stdout",
     "output_type": "stream",
     "text": [
      "Variable   Type    Data/Info\n",
      "----------------------------\n",
      "var_x      str     산업·데이터공학과\n",
      "var_y      str     산업·데이터공학과\n"
     ]
    }
   ],
   "source": [
    "## 4. 현재 커널에서 사용 중인 변수 목록, 데이터 타입, 값\n",
    "%whos"
   ]
  },
  {
   "cell_type": "code",
   "execution_count": 13,
   "id": "8218aecf",
   "metadata": {},
   "outputs": [],
   "source": [
    "#변수의 삭제 - del 명령어 사용"
   ]
  },
  {
   "cell_type": "code",
   "execution_count": 14,
   "id": "ce72759a",
   "metadata": {},
   "outputs": [
    {
     "name": "stdout",
     "output_type": "stream",
     "text": [
      "Variable   Type    Data/Info\n",
      "----------------------------\n",
      "var_x      str     산업·데이터공학과\n",
      "var_y      str     산업·데이터공학과\n",
      "var_z1     int     123\n",
      "var_z2     list    n=5\n"
     ]
    }
   ],
   "source": [
    "var_z1 = 123\n",
    "var_z2 = [1,2,3,4,5]\n",
    "\n",
    "%whos"
   ]
  },
  {
   "cell_type": "code",
   "execution_count": 15,
   "id": "5e233238",
   "metadata": {},
   "outputs": [
    {
     "name": "stdout",
     "output_type": "stream",
     "text": [
      "Variable   Type    Data/Info\n",
      "----------------------------\n",
      "var_y      str     산업·데이터공학과\n",
      "var_z1     int     123\n",
      "var_z2     list    n=5\n"
     ]
    }
   ],
   "source": [
    "## 1. 변수 var_x를 삭제\n",
    "del var_x\n",
    "\n",
    "## 2. 변수 var_x가 삭제되었는지 확인\n",
    "%whos"
   ]
  },
  {
   "cell_type": "code",
   "execution_count": 16,
   "id": "895e5757",
   "metadata": {},
   "outputs": [
    {
     "name": "stdout",
     "output_type": "stream",
     "text": [
      "Interactive namespace is empty.\n"
     ]
    }
   ],
   "source": [
    "## 3. 나머지 변수들을 삭제\n",
    "del var_y, var_z1, var_z2\n",
    "\n",
    "## 4. 모든 변수가 삭제되었는지 확인\n",
    "%whos"
   ]
  },
  {
   "cell_type": "code",
   "execution_count": 17,
   "id": "da27ad62",
   "metadata": {},
   "outputs": [],
   "source": [
    "#데이터의 입출력 - input() 함수는 문자열로 사용자 입력을 받는 함수\n",
    "\n",
    "## 1. 사용자에게 데이터를 입력받아 변수 var_x에 저장\n",
    "var_x = input('데이터를 입력하세요: ')"
   ]
  },
  {
   "cell_type": "code",
   "execution_count": 18,
   "id": "7d238a14",
   "metadata": {},
   "outputs": [
    {
     "name": "stdout",
     "output_type": "stream",
     "text": [
      "var_x = '123'\n",
      "type(var_x) = <class 'str'>\n"
     ]
    }
   ],
   "source": [
    "## 2. 변수 var_x에 저장된 데이터 출력\n",
    "print(f'{var_x = }')\n",
    "\n",
    "## 3. 변수 var_x의 데이터 타입 출력\n",
    "print(f'{type(var_x) = }')"
   ]
  },
  {
   "cell_type": "code",
   "execution_count": 1,
   "id": "37a445ed",
   "metadata": {},
   "outputs": [
    {
     "name": "stdout",
     "output_type": "stream",
     "text": [
      "var_y = 123\n",
      "<class 'int'>\n"
     ]
    }
   ],
   "source": [
    "## 1. 사용자로부터 데이터를 입력받아 정수형으로 변환한 후, 변수 var_y에 저장\n",
    "var_y = int(input('숫자를 입력하세요: '))\n",
    "\n",
    "## 2. 변수 var_y에 저장된 데이터 출력\n",
    "print(f'{var_y = }')\n",
    "\n",
    "## 3. 변수 var_y의 데이터 타입 출력\n",
    "print(type(var_y))\n"
   ]
  },
  {
   "cell_type": "code",
   "execution_count": 2,
   "id": "429bf3e3",
   "metadata": {},
   "outputs": [
    {
     "name": "stdout",
     "output_type": "stream",
     "text": [
      "10\n",
      "10 산업·데이터공학과 3.14 True\n",
      "10|산업·데이터공학과|3.14|True\n",
      "10|산업·데이터공학과|3.14|True\t************\n"
     ]
    }
   ],
   "source": [
    "#데이터의 출력 - print() 함수는 괄호 안에 있는 내용을 출력하는 함수\n",
    "\n",
    "print(10)\n",
    "print(10, '산업·데이터공학과', 3.14, True)\n",
    "print(10, '산업·데이터공학과', 3.14, True, sep='|')\n",
    "print(10, '산업·데이터공학과', 3.14, True, sep='|', end='\\t************\\n')"
   ]
  },
  {
   "cell_type": "code",
   "execution_count": 3,
   "id": "786d7656",
   "metadata": {},
   "outputs": [],
   "source": [
    "#이스케이프 문자 - 특수한 문자를 출력하거나 특수한 동작을 하도록 함\n",
    "## 1. \\n : 줄바꿈\n",
    "## 2. \\t : 탭\n",
    "## 3. \\\\ : \\ 문자 출력\n",
    "## 4. \\' : ' 문자 출력"
   ]
  },
  {
   "cell_type": "code",
   "execution_count": 4,
   "id": "883091d0",
   "metadata": {},
   "outputs": [
    {
     "name": "stdout",
     "output_type": "stream",
     "text": [
      "이름 : 최용비\n",
      "학번 : C521069\n",
      "학과 : 산업·데이터공학과\n"
     ]
    }
   ],
   "source": [
    "## 1. 줄바꿈 적용\n",
    "print('이름 : 최용비\\n학번 : C521069\\n학과 : 산업·데이터공학과')"
   ]
  },
  {
   "cell_type": "code",
   "execution_count": 5,
   "id": "4f8698d8",
   "metadata": {},
   "outputs": [
    {
     "name": "stdout",
     "output_type": "stream",
     "text": [
      "이름\t학번\t\t학과\n",
      "최용비\tC521069\t\t산업·데이터공학과\n",
      "홍길동\t20061108\t디자인학과\n"
     ]
    }
   ],
   "source": [
    "## 2. 탭 적용\n",
    "print('이름\\t학번\\t\\t학과')\n",
    "print('최용비\\tC521069\\t\\t산업·데이터공학과')\n",
    "print('홍길동\\t20061108\\t디자인학과')"
   ]
  },
  {
   "cell_type": "code",
   "execution_count": 6,
   "id": "e6da6a0c",
   "metadata": {},
   "outputs": [],
   "source": [
    "#f-string - 문자열과 변수를 혼합하여 출력하는 다양한 문자열 포매팅(string formatting) 방법 중 하나\n",
    "    ##문자열 포매팅(string formatting) : 문자열 안에 변수를 삽입하는 방법\n",
    "#f-string 은 사용이 간편하고 가독성이 좋은 문자열 포매팅 방법\n",
    "    ##f-string 사용법 - f'{변수명}' :변수의 값 출력, f'{변수명 =}' :변수의 값과 변수명 출력         "
   ]
  },
  {
   "cell_type": "code",
   "execution_count": 7,
   "id": "1c34a9b8",
   "metadata": {},
   "outputs": [
    {
     "name": "stdout",
     "output_type": "stream",
     "text": [
      "54321\n",
      "---------------------\n",
      "var_y = 54321\n",
      "---------------------\n",
      "var_y = 54321\n",
      "---------------------\n"
     ]
    }
   ],
   "source": [
    "var_y = 54321   # 변수 var_y에 정수형 데이터 54321 저장\n",
    "\n",
    "## 1. 변수 var_y에 저장된 데이터를 출력\n",
    "print(f'{var_y}', end='\\n---------------------\\n')\n",
    "\n",
    "## 2. 변수 var_y에 저장된 데이터를 출력\n",
    "print(f'{var_y = }', end='\\n---------------------\\n')\n",
    "\n",
    "## 3. 변수 var_y에 저장된 데이터를 출력\n",
    "print(f'var_y = {var_y}', end='\\n---------------------\\n')"
   ]
  },
  {
   "cell_type": "code",
   "execution_count": 8,
   "id": "bc991014",
   "metadata": {},
   "outputs": [],
   "source": [
    "## f'{변수명:서식}' : 서식 지정\n",
    "    ##정렬기호: 없음-왼쪽, ^-가운데, >-오른쪽\n",
    "    ##서식지정자: d-정수, f-실수, s-문자열\n",
    "    ##소수점 자릿수 지정: 구분자(:) 오른편에. 자릿수 f를 사용"
   ]
  },
  {
   "cell_type": "code",
   "execution_count": 9,
   "id": "85907481",
   "metadata": {},
   "outputs": [
    {
     "name": "stdout",
     "output_type": "stream",
     "text": [
      "1. var_x는 정수형이므로 d를 사용하여야 하고, 54321입니다.\n",
      "2. var_x를 총 10개의 자리에 표현하면,      54321입니다.\n",
      "3. var_x를 총 10개의 자리에 왼쪽 정렬하여 표현하면, 54321     입니다.\n",
      "4. var_y는 실수형이므로 f를 사용하여야 하고, 54321.123457입니다.\n",
      "5. var_y를 정수만 출력하면54321입니다.\n",
      "6. var_y를 소수점 3자리까지 출력하면54321.123입니다.\n",
      "7. var_y를20자리에 가운데정렬하여 소수점 3자리까지 출력하면      54321.123      입니다.\n"
     ]
    }
   ],
   "source": [
    "var_x = 54321\n",
    "var_y = 54321.123456789\n",
    "\n",
    "print(f'1. var_x는 정수형이므로 d를 사용하여야 하고, {var_x:d}입니다.')\n",
    "print(f'2. var_x를 총 10개의 자리에 표현하면, {var_x:10d}입니다.')\n",
    "print(f'3. var_x를 총 10개의 자리에 왼쪽 정렬하여 표현하면, {var_x:<10d}입니다.')\n",
    "print(f'4. var_y는 실수형이므로 f를 사용하여야 하고, {var_y:f}입니다.')\n",
    "print(f'5. var_y를 정수만 출력하면{var_y:.0f}입니다.')\n",
    "print(f'6. var_y를 소수점 3자리까지 출력하면{var_y:.3f}입니다.')\n",
    "print(f'7. var_y를20자리에 가운데정렬하여 소수점 3자리까지 출력하면 {var_y:^20.3f}입니다.')"
   ]
  },
  {
   "cell_type": "code",
   "execution_count": null,
   "id": "b0daa6b6",
   "metadata": {},
   "outputs": [],
   "source": [
    "# 응용"
   ]
  },
  {
   "cell_type": "code",
   "execution_count": 4,
   "id": "5fb22f41",
   "metadata": {},
   "outputs": [
    {
     "name": "stdout",
     "output_type": "stream",
     "text": [
      "\n",
      "[학생 정보]\n",
      "이름\t: 최용비\n",
      "학번\t: C521069\n",
      "학과\t: 산업·데이터공학과\n"
     ]
    }
   ],
   "source": [
    "# 1. 학생 정보 입력받아 출력하기\n",
    "\n",
    "# 학생 정보 입력받기\n",
    "name = input(\"이름을 입력하세요: \")#--> 최용비\n",
    "student_id = input(\"학번을 입력하세요: \")#--> C521069\n",
    "major = input(\"학과를 입력하세요: \")#--> 산업·데이터공학과\n",
    "\n",
    "# f-string을 활용한 출력\n",
    "print(\"\\n[학생 정보]\")\n",
    "print(f\"이름\\t: {name}\")\n",
    "print(f\"학번\\t: {student_id}\")\n",
    "print(f\"학과\\t: {major}\")"
   ]
  },
  {
   "cell_type": "code",
   "execution_count": 5,
   "id": "af41bd5f",
   "metadata": {},
   "outputs": [
    {
     "name": "stdout",
     "output_type": "stream",
     "text": [
      "\n",
      "두 수의 합: 10\n",
      "두 수의 차: 4\n",
      "두 수의 곱: 21\n",
      "두 수의 나눗셈: 2.33\n"
     ]
    }
   ],
   "source": [
    "# 2. 두 수를 입력하여 사칙연산 계산하기\n",
    "\n",
    "num1 = int(input(\"첫 번째 숫자를 입력하세요: \"))#--> 7\n",
    "num2 = int(input(\"두 번째 숫자를 입력하세요: \"))#--> 3\n",
    "\n",
    "print(f\"\\n두 수의 합: {num1 + num2}\")\n",
    "print(f\"두 수의 차: {num1 - num2}\")\n",
    "print(f\"두 수의 곱: {num1 * num2}\")\n",
    "print(f\"두 수의 나눗셈: {num1 / num2:.2f}\")  # 소수점 둘째자리까지"
   ]
  },
  {
   "cell_type": "code",
   "execution_count": 6,
   "id": "225d8f4a",
   "metadata": {},
   "outputs": [
    {
     "name": "stdout",
     "output_type": "stream",
     "text": [
      "\n",
      "평균 점수는 86.33점입니다.\n"
     ]
    }
   ],
   "source": [
    "# 3. 시험 점수를 입력하여 평균 계산 및 출력\n",
    "\n",
    "score1 = float(input(\"국어 점수를 입력하세요: \"))#--> 88\n",
    "score2 = float(input(\"수학 점수를 입력하세요: \"))#--> 96\n",
    "score3 = float(input(\"영어 점수를 입력하세요: \"))#--> 75\n",
    "\n",
    "avg = (score1 + score2 + score3) / 3\n",
    "\n",
    "print(f\"\\n평균 점수는 {avg:.2f}점입니다.\")"
   ]
  },
  {
   "cell_type": "code",
   "execution_count": null,
   "id": "4051431e",
   "metadata": {},
   "outputs": [
    {
     "name": "stdout",
     "output_type": "stream",
     "text": [
      "\n",
      "당신의 출생년도는 2006년입니다.\n",
      "(입력값의 데이터 타입은 <class 'int'>입니다)\n"
     ]
    }
   ],
   "source": [
    "# 4. 나이로 올해 기준 출생년도 계산하기\n",
    "\n",
    "age = int(input(\"나이를 입력하세요: \"))#--> 19\n",
    "birth_year = 2025 - age\n",
    "\n",
    "print(f\"\\n당신의 출생년도는 {birth_year}년입니다.\")\n",
    "print(f\"(입력값의 데이터 타입은 {type(age)}입니다)\")"
   ]
  },
  {
   "cell_type": "code",
   "execution_count": null,
   "id": "b194a0c7",
   "metadata": {},
   "outputs": [
    {
     "name": "stdout",
     "output_type": "stream",
     "text": [
      "\n",
      "[젤리] 총액은 130,000원입니다.\n"
     ]
    }
   ],
   "source": [
    "# 5. 상품 가격과 수량을 입력하여 총합 계산\n",
    "\n",
    "item_name = input(\"상품명을 입력하세요: \")#--> 젤리\n",
    "price = int(input(\"상품의 단가를 입력하세요: \"))#--> 2000\n",
    "quantity = int(input(\"수량을 입력하세요: \"))#--> 65\n",
    "\n",
    "total = price * quantity\n",
    "\n",
    "print(f\"\\n[{item_name}] 총액은 {total:,}원입니다.\")  # 천 단위 쉼표"
   ]
  },
  {
   "cell_type": "code",
   "execution_count": 9,
   "id": "7f43763c",
   "metadata": {},
   "outputs": [
    {
     "name": "stdout",
     "output_type": "stream",
     "text": [
      "\n",
      "최용비님, 안녕하세요!\n",
      "오늘도 파이썬과 함께 즐거운 하루 보내세요 😊\n"
     ]
    }
   ],
   "source": [
    "# 6. 이름으로 간단한 인사 메세지 출력\n",
    "\n",
    "name = input(\"이름을 입력하세요: \")\n",
    "\n",
    "print(f\"\\n{name}님, 안녕하세요!\\n오늘도 파이썬과 함께 즐거운 하루 보내세요 😊\")"
   ]
  }
 ],
 "metadata": {
  "kernelspec": {
   "display_name": "base",
   "language": "python",
   "name": "python3"
  },
  "language_info": {
   "codemirror_mode": {
    "name": "ipython",
    "version": 3
   },
   "file_extension": ".py",
   "mimetype": "text/x-python",
   "name": "python",
   "nbconvert_exporter": "python",
   "pygments_lexer": "ipython3",
   "version": "3.12.9"
  }
 },
 "nbformat": 4,
 "nbformat_minor": 5
}
